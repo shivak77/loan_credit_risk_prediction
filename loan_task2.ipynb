{
  "nbformat": 4,
  "nbformat_minor": 0,
  "metadata": {
    "colab": {
      "provenance": []
    },
    "kernelspec": {
      "name": "python3",
      "display_name": "Python 3"
    },
    "language_info": {
      "name": "python"
    }
  },
  "cells": [
    {
      "cell_type": "code",
      "execution_count": 184,
      "metadata": {
        "id": "MMe-0d1844Z5"
      },
      "outputs": [],
      "source": [
        "import pandas as pd\n",
        "import numpy as np\n",
        "import matplotlib.pyplot as plt\n",
        "import seaborn as sns"
      ]
    },
    {
      "cell_type": "code",
      "source": [
        "df1 = pd.read_csv('/content/applicant.csv')\n",
        "df2 = pd.read_csv('/content/loan.csv')"
      ],
      "metadata": {
        "id": "nty5HuIN5HSA"
      },
      "execution_count": 185,
      "outputs": []
    },
    {
      "cell_type": "code",
      "source": [
        "df_final = df1.merge(df2,on='applicant_id',how='inner')\n",
        "df_final.head()"
      ],
      "metadata": {
        "colab": {
          "base_uri": "https://localhost:8080/",
          "height": 508
        },
        "id": "unVW9yrU5R2o",
        "outputId": "5f2aa0e1-cd2a-4b25-d5a1-6b2a0aabeab2"
      },
      "execution_count": 186,
      "outputs": [
        {
          "output_type": "execute_result",
          "data": {
            "text/plain": [
              "   applicant_id  Primary_applicant_age_in_years  Gender  \\\n",
              "0       1469590                              67    male   \n",
              "1       1203873                              22  female   \n",
              "2       1432761                              49    male   \n",
              "3       1207582                              45    male   \n",
              "4       1674436                              53    male   \n",
              "\n",
              "               Marital_status  Number_of_dependents   Housing  \\\n",
              "0                      single                     1       own   \n",
              "1  divorced/separated/married                     1       own   \n",
              "2                      single                     2       own   \n",
              "3                      single                     2  for free   \n",
              "4                      single                     2  for free   \n",
              "\n",
              "   Years_at_current_residence            Employment_status  \\\n",
              "0                           4  skilled employee / official   \n",
              "1                           2  skilled employee / official   \n",
              "2                           3         unskilled - resident   \n",
              "3                           4  skilled employee / official   \n",
              "4                           4  skilled employee / official   \n",
              "\n",
              "  Has_been_employed_for_at_least Has_been_employed_for_at_most  ...  \\\n",
              "0                        7 years                           NaN  ...   \n",
              "1                         1 year                       4 years  ...   \n",
              "2                        4 years                       7 years  ...   \n",
              "3                        4 years                       7 years  ...   \n",
              "4                         1 year                       4 years  ...   \n",
              "\n",
              "                Purpose  Principal_loan_amount  \\\n",
              "0  electronic equipment                1169000   \n",
              "1  electronic equipment                5951000   \n",
              "2             education                2096000   \n",
              "3                  FF&E                7882000   \n",
              "4           new vehicle                4870000   \n",
              "\n",
              "  EMI_rate_in_percentage_of_disposable_income  \\\n",
              "0                                           4   \n",
              "1                                           2   \n",
              "2                                           2   \n",
              "3                                           2   \n",
              "4                                           3   \n",
              "\n",
              "                                            Property Has_coapplicant  \\\n",
              "0                                        real estate               0   \n",
              "1                                        real estate               0   \n",
              "2                                        real estate               0   \n",
              "3  building society savings agreement/life insurance               0   \n",
              "4                                                NaN               0   \n",
              "\n",
              "  Has_guarantor  Other_EMI_plans Number_of_existing_loans_at_this_bank  \\\n",
              "0             0              NaN                                     2   \n",
              "1             0              NaN                                     1   \n",
              "2             0              NaN                                     1   \n",
              "3             1              NaN                                     1   \n",
              "4             0              NaN                                     2   \n",
              "\n",
              "                             Loan_history  high_risk_applicant  \n",
              "0   critical/pending loans at other banks                    0  \n",
              "1  existing loans paid back duly till now                    1  \n",
              "2   critical/pending loans at other banks                    0  \n",
              "3  existing loans paid back duly till now                    0  \n",
              "4   delay in paying off loans in the past                    1  \n",
              "\n",
              "[5 rows x 27 columns]"
            ],
            "text/html": [
              "\n",
              "  <div id=\"df-18915f04-a17f-4b3b-a4eb-83b78b91f919\">\n",
              "    <div class=\"colab-df-container\">\n",
              "      <div>\n",
              "<style scoped>\n",
              "    .dataframe tbody tr th:only-of-type {\n",
              "        vertical-align: middle;\n",
              "    }\n",
              "\n",
              "    .dataframe tbody tr th {\n",
              "        vertical-align: top;\n",
              "    }\n",
              "\n",
              "    .dataframe thead th {\n",
              "        text-align: right;\n",
              "    }\n",
              "</style>\n",
              "<table border=\"1\" class=\"dataframe\">\n",
              "  <thead>\n",
              "    <tr style=\"text-align: right;\">\n",
              "      <th></th>\n",
              "      <th>applicant_id</th>\n",
              "      <th>Primary_applicant_age_in_years</th>\n",
              "      <th>Gender</th>\n",
              "      <th>Marital_status</th>\n",
              "      <th>Number_of_dependents</th>\n",
              "      <th>Housing</th>\n",
              "      <th>Years_at_current_residence</th>\n",
              "      <th>Employment_status</th>\n",
              "      <th>Has_been_employed_for_at_least</th>\n",
              "      <th>Has_been_employed_for_at_most</th>\n",
              "      <th>...</th>\n",
              "      <th>Purpose</th>\n",
              "      <th>Principal_loan_amount</th>\n",
              "      <th>EMI_rate_in_percentage_of_disposable_income</th>\n",
              "      <th>Property</th>\n",
              "      <th>Has_coapplicant</th>\n",
              "      <th>Has_guarantor</th>\n",
              "      <th>Other_EMI_plans</th>\n",
              "      <th>Number_of_existing_loans_at_this_bank</th>\n",
              "      <th>Loan_history</th>\n",
              "      <th>high_risk_applicant</th>\n",
              "    </tr>\n",
              "  </thead>\n",
              "  <tbody>\n",
              "    <tr>\n",
              "      <th>0</th>\n",
              "      <td>1469590</td>\n",
              "      <td>67</td>\n",
              "      <td>male</td>\n",
              "      <td>single</td>\n",
              "      <td>1</td>\n",
              "      <td>own</td>\n",
              "      <td>4</td>\n",
              "      <td>skilled employee / official</td>\n",
              "      <td>7 years</td>\n",
              "      <td>NaN</td>\n",
              "      <td>...</td>\n",
              "      <td>electronic equipment</td>\n",
              "      <td>1169000</td>\n",
              "      <td>4</td>\n",
              "      <td>real estate</td>\n",
              "      <td>0</td>\n",
              "      <td>0</td>\n",
              "      <td>NaN</td>\n",
              "      <td>2</td>\n",
              "      <td>critical/pending loans at other banks</td>\n",
              "      <td>0</td>\n",
              "    </tr>\n",
              "    <tr>\n",
              "      <th>1</th>\n",
              "      <td>1203873</td>\n",
              "      <td>22</td>\n",
              "      <td>female</td>\n",
              "      <td>divorced/separated/married</td>\n",
              "      <td>1</td>\n",
              "      <td>own</td>\n",
              "      <td>2</td>\n",
              "      <td>skilled employee / official</td>\n",
              "      <td>1 year</td>\n",
              "      <td>4 years</td>\n",
              "      <td>...</td>\n",
              "      <td>electronic equipment</td>\n",
              "      <td>5951000</td>\n",
              "      <td>2</td>\n",
              "      <td>real estate</td>\n",
              "      <td>0</td>\n",
              "      <td>0</td>\n",
              "      <td>NaN</td>\n",
              "      <td>1</td>\n",
              "      <td>existing loans paid back duly till now</td>\n",
              "      <td>1</td>\n",
              "    </tr>\n",
              "    <tr>\n",
              "      <th>2</th>\n",
              "      <td>1432761</td>\n",
              "      <td>49</td>\n",
              "      <td>male</td>\n",
              "      <td>single</td>\n",
              "      <td>2</td>\n",
              "      <td>own</td>\n",
              "      <td>3</td>\n",
              "      <td>unskilled - resident</td>\n",
              "      <td>4 years</td>\n",
              "      <td>7 years</td>\n",
              "      <td>...</td>\n",
              "      <td>education</td>\n",
              "      <td>2096000</td>\n",
              "      <td>2</td>\n",
              "      <td>real estate</td>\n",
              "      <td>0</td>\n",
              "      <td>0</td>\n",
              "      <td>NaN</td>\n",
              "      <td>1</td>\n",
              "      <td>critical/pending loans at other banks</td>\n",
              "      <td>0</td>\n",
              "    </tr>\n",
              "    <tr>\n",
              "      <th>3</th>\n",
              "      <td>1207582</td>\n",
              "      <td>45</td>\n",
              "      <td>male</td>\n",
              "      <td>single</td>\n",
              "      <td>2</td>\n",
              "      <td>for free</td>\n",
              "      <td>4</td>\n",
              "      <td>skilled employee / official</td>\n",
              "      <td>4 years</td>\n",
              "      <td>7 years</td>\n",
              "      <td>...</td>\n",
              "      <td>FF&amp;E</td>\n",
              "      <td>7882000</td>\n",
              "      <td>2</td>\n",
              "      <td>building society savings agreement/life insurance</td>\n",
              "      <td>0</td>\n",
              "      <td>1</td>\n",
              "      <td>NaN</td>\n",
              "      <td>1</td>\n",
              "      <td>existing loans paid back duly till now</td>\n",
              "      <td>0</td>\n",
              "    </tr>\n",
              "    <tr>\n",
              "      <th>4</th>\n",
              "      <td>1674436</td>\n",
              "      <td>53</td>\n",
              "      <td>male</td>\n",
              "      <td>single</td>\n",
              "      <td>2</td>\n",
              "      <td>for free</td>\n",
              "      <td>4</td>\n",
              "      <td>skilled employee / official</td>\n",
              "      <td>1 year</td>\n",
              "      <td>4 years</td>\n",
              "      <td>...</td>\n",
              "      <td>new vehicle</td>\n",
              "      <td>4870000</td>\n",
              "      <td>3</td>\n",
              "      <td>NaN</td>\n",
              "      <td>0</td>\n",
              "      <td>0</td>\n",
              "      <td>NaN</td>\n",
              "      <td>2</td>\n",
              "      <td>delay in paying off loans in the past</td>\n",
              "      <td>1</td>\n",
              "    </tr>\n",
              "  </tbody>\n",
              "</table>\n",
              "<p>5 rows × 27 columns</p>\n",
              "</div>\n",
              "      <button class=\"colab-df-convert\" onclick=\"convertToInteractive('df-18915f04-a17f-4b3b-a4eb-83b78b91f919')\"\n",
              "              title=\"Convert this dataframe to an interactive table.\"\n",
              "              style=\"display:none;\">\n",
              "        \n",
              "  <svg xmlns=\"http://www.w3.org/2000/svg\" height=\"24px\"viewBox=\"0 0 24 24\"\n",
              "       width=\"24px\">\n",
              "    <path d=\"M0 0h24v24H0V0z\" fill=\"none\"/>\n",
              "    <path d=\"M18.56 5.44l.94 2.06.94-2.06 2.06-.94-2.06-.94-.94-2.06-.94 2.06-2.06.94zm-11 1L8.5 8.5l.94-2.06 2.06-.94-2.06-.94L8.5 2.5l-.94 2.06-2.06.94zm10 10l.94 2.06.94-2.06 2.06-.94-2.06-.94-.94-2.06-.94 2.06-2.06.94z\"/><path d=\"M17.41 7.96l-1.37-1.37c-.4-.4-.92-.59-1.43-.59-.52 0-1.04.2-1.43.59L10.3 9.45l-7.72 7.72c-.78.78-.78 2.05 0 2.83L4 21.41c.39.39.9.59 1.41.59.51 0 1.02-.2 1.41-.59l7.78-7.78 2.81-2.81c.8-.78.8-2.07 0-2.86zM5.41 20L4 18.59l7.72-7.72 1.47 1.35L5.41 20z\"/>\n",
              "  </svg>\n",
              "      </button>\n",
              "      \n",
              "  <style>\n",
              "    .colab-df-container {\n",
              "      display:flex;\n",
              "      flex-wrap:wrap;\n",
              "      gap: 12px;\n",
              "    }\n",
              "\n",
              "    .colab-df-convert {\n",
              "      background-color: #E8F0FE;\n",
              "      border: none;\n",
              "      border-radius: 50%;\n",
              "      cursor: pointer;\n",
              "      display: none;\n",
              "      fill: #1967D2;\n",
              "      height: 32px;\n",
              "      padding: 0 0 0 0;\n",
              "      width: 32px;\n",
              "    }\n",
              "\n",
              "    .colab-df-convert:hover {\n",
              "      background-color: #E2EBFA;\n",
              "      box-shadow: 0px 1px 2px rgba(60, 64, 67, 0.3), 0px 1px 3px 1px rgba(60, 64, 67, 0.15);\n",
              "      fill: #174EA6;\n",
              "    }\n",
              "\n",
              "    [theme=dark] .colab-df-convert {\n",
              "      background-color: #3B4455;\n",
              "      fill: #D2E3FC;\n",
              "    }\n",
              "\n",
              "    [theme=dark] .colab-df-convert:hover {\n",
              "      background-color: #434B5C;\n",
              "      box-shadow: 0px 1px 3px 1px rgba(0, 0, 0, 0.15);\n",
              "      filter: drop-shadow(0px 1px 2px rgba(0, 0, 0, 0.3));\n",
              "      fill: #FFFFFF;\n",
              "    }\n",
              "  </style>\n",
              "\n",
              "      <script>\n",
              "        const buttonEl =\n",
              "          document.querySelector('#df-18915f04-a17f-4b3b-a4eb-83b78b91f919 button.colab-df-convert');\n",
              "        buttonEl.style.display =\n",
              "          google.colab.kernel.accessAllowed ? 'block' : 'none';\n",
              "\n",
              "        async function convertToInteractive(key) {\n",
              "          const element = document.querySelector('#df-18915f04-a17f-4b3b-a4eb-83b78b91f919');\n",
              "          const dataTable =\n",
              "            await google.colab.kernel.invokeFunction('convertToInteractive',\n",
              "                                                     [key], {});\n",
              "          if (!dataTable) return;\n",
              "\n",
              "          const docLinkHtml = 'Like what you see? Visit the ' +\n",
              "            '<a target=\"_blank\" href=https://colab.research.google.com/notebooks/data_table.ipynb>data table notebook</a>'\n",
              "            + ' to learn more about interactive tables.';\n",
              "          element.innerHTML = '';\n",
              "          dataTable['output_type'] = 'display_data';\n",
              "          await google.colab.output.renderOutput(dataTable, element);\n",
              "          const docLink = document.createElement('div');\n",
              "          docLink.innerHTML = docLinkHtml;\n",
              "          element.appendChild(docLink);\n",
              "        }\n",
              "      </script>\n",
              "    </div>\n",
              "  </div>\n",
              "  "
            ]
          },
          "metadata": {},
          "execution_count": 186
        }
      ]
    },
    {
      "cell_type": "code",
      "source": [
        "df_final.describe()"
      ],
      "metadata": {
        "colab": {
          "base_uri": "https://localhost:8080/",
          "height": 364
        },
        "id": "6GMZ08kxn3Xb",
        "outputId": "aaef90bf-5080-48ec-9e6f-49e4e083a92b"
      },
      "execution_count": 187,
      "outputs": [
        {
          "output_type": "execute_result",
          "data": {
            "text/plain": [
              "       applicant_id  Primary_applicant_age_in_years  Number_of_dependents  \\\n",
              "count  1.000000e+03                     1000.000000           1000.000000   \n",
              "mean   1.514763e+06                       35.546000              1.155000   \n",
              "std    2.286764e+05                       11.375469              0.362086   \n",
              "min    1.105364e+06                       19.000000              1.000000   \n",
              "25%    1.321398e+06                       27.000000              1.000000   \n",
              "50%    1.529114e+06                       33.000000              1.000000   \n",
              "75%    1.707752e+06                       42.000000              1.000000   \n",
              "max    1.903505e+06                       75.000000              2.000000   \n",
              "\n",
              "       Years_at_current_residence  Foreign_worker  Months_loan_taken_for  \\\n",
              "count                 1000.000000     1000.000000            1000.000000   \n",
              "mean                     2.845000        0.963000              20.903000   \n",
              "std                      1.103718        0.188856              12.058814   \n",
              "min                      1.000000        0.000000               4.000000   \n",
              "25%                      2.000000        1.000000              12.000000   \n",
              "50%                      3.000000        1.000000              18.000000   \n",
              "75%                      4.000000        1.000000              24.000000   \n",
              "max                      4.000000        1.000000              72.000000   \n",
              "\n",
              "       Principal_loan_amount  EMI_rate_in_percentage_of_disposable_income  \\\n",
              "count           1.000000e+03                                  1000.000000   \n",
              "mean            3.271258e+06                                     2.973000   \n",
              "std             2.822737e+06                                     1.118715   \n",
              "min             2.500000e+05                                     1.000000   \n",
              "25%             1.365500e+06                                     2.000000   \n",
              "50%             2.319500e+06                                     3.000000   \n",
              "75%             3.972250e+06                                     4.000000   \n",
              "max             1.842400e+07                                     4.000000   \n",
              "\n",
              "       Has_coapplicant  Has_guarantor  Number_of_existing_loans_at_this_bank  \\\n",
              "count      1000.000000    1000.000000                            1000.000000   \n",
              "mean          0.041000       0.052000                               1.407000   \n",
              "std           0.198389       0.222138                               0.577654   \n",
              "min           0.000000       0.000000                               1.000000   \n",
              "25%           0.000000       0.000000                               1.000000   \n",
              "50%           0.000000       0.000000                               1.000000   \n",
              "75%           0.000000       0.000000                               2.000000   \n",
              "max           1.000000       1.000000                               4.000000   \n",
              "\n",
              "       high_risk_applicant  \n",
              "count          1000.000000  \n",
              "mean              0.300000  \n",
              "std               0.458487  \n",
              "min               0.000000  \n",
              "25%               0.000000  \n",
              "50%               0.000000  \n",
              "75%               1.000000  \n",
              "max               1.000000  "
            ],
            "text/html": [
              "\n",
              "  <div id=\"df-0b01d3a6-ee0a-4451-9549-02a640b573f9\">\n",
              "    <div class=\"colab-df-container\">\n",
              "      <div>\n",
              "<style scoped>\n",
              "    .dataframe tbody tr th:only-of-type {\n",
              "        vertical-align: middle;\n",
              "    }\n",
              "\n",
              "    .dataframe tbody tr th {\n",
              "        vertical-align: top;\n",
              "    }\n",
              "\n",
              "    .dataframe thead th {\n",
              "        text-align: right;\n",
              "    }\n",
              "</style>\n",
              "<table border=\"1\" class=\"dataframe\">\n",
              "  <thead>\n",
              "    <tr style=\"text-align: right;\">\n",
              "      <th></th>\n",
              "      <th>applicant_id</th>\n",
              "      <th>Primary_applicant_age_in_years</th>\n",
              "      <th>Number_of_dependents</th>\n",
              "      <th>Years_at_current_residence</th>\n",
              "      <th>Foreign_worker</th>\n",
              "      <th>Months_loan_taken_for</th>\n",
              "      <th>Principal_loan_amount</th>\n",
              "      <th>EMI_rate_in_percentage_of_disposable_income</th>\n",
              "      <th>Has_coapplicant</th>\n",
              "      <th>Has_guarantor</th>\n",
              "      <th>Number_of_existing_loans_at_this_bank</th>\n",
              "      <th>high_risk_applicant</th>\n",
              "    </tr>\n",
              "  </thead>\n",
              "  <tbody>\n",
              "    <tr>\n",
              "      <th>count</th>\n",
              "      <td>1.000000e+03</td>\n",
              "      <td>1000.000000</td>\n",
              "      <td>1000.000000</td>\n",
              "      <td>1000.000000</td>\n",
              "      <td>1000.000000</td>\n",
              "      <td>1000.000000</td>\n",
              "      <td>1.000000e+03</td>\n",
              "      <td>1000.000000</td>\n",
              "      <td>1000.000000</td>\n",
              "      <td>1000.000000</td>\n",
              "      <td>1000.000000</td>\n",
              "      <td>1000.000000</td>\n",
              "    </tr>\n",
              "    <tr>\n",
              "      <th>mean</th>\n",
              "      <td>1.514763e+06</td>\n",
              "      <td>35.546000</td>\n",
              "      <td>1.155000</td>\n",
              "      <td>2.845000</td>\n",
              "      <td>0.963000</td>\n",
              "      <td>20.903000</td>\n",
              "      <td>3.271258e+06</td>\n",
              "      <td>2.973000</td>\n",
              "      <td>0.041000</td>\n",
              "      <td>0.052000</td>\n",
              "      <td>1.407000</td>\n",
              "      <td>0.300000</td>\n",
              "    </tr>\n",
              "    <tr>\n",
              "      <th>std</th>\n",
              "      <td>2.286764e+05</td>\n",
              "      <td>11.375469</td>\n",
              "      <td>0.362086</td>\n",
              "      <td>1.103718</td>\n",
              "      <td>0.188856</td>\n",
              "      <td>12.058814</td>\n",
              "      <td>2.822737e+06</td>\n",
              "      <td>1.118715</td>\n",
              "      <td>0.198389</td>\n",
              "      <td>0.222138</td>\n",
              "      <td>0.577654</td>\n",
              "      <td>0.458487</td>\n",
              "    </tr>\n",
              "    <tr>\n",
              "      <th>min</th>\n",
              "      <td>1.105364e+06</td>\n",
              "      <td>19.000000</td>\n",
              "      <td>1.000000</td>\n",
              "      <td>1.000000</td>\n",
              "      <td>0.000000</td>\n",
              "      <td>4.000000</td>\n",
              "      <td>2.500000e+05</td>\n",
              "      <td>1.000000</td>\n",
              "      <td>0.000000</td>\n",
              "      <td>0.000000</td>\n",
              "      <td>1.000000</td>\n",
              "      <td>0.000000</td>\n",
              "    </tr>\n",
              "    <tr>\n",
              "      <th>25%</th>\n",
              "      <td>1.321398e+06</td>\n",
              "      <td>27.000000</td>\n",
              "      <td>1.000000</td>\n",
              "      <td>2.000000</td>\n",
              "      <td>1.000000</td>\n",
              "      <td>12.000000</td>\n",
              "      <td>1.365500e+06</td>\n",
              "      <td>2.000000</td>\n",
              "      <td>0.000000</td>\n",
              "      <td>0.000000</td>\n",
              "      <td>1.000000</td>\n",
              "      <td>0.000000</td>\n",
              "    </tr>\n",
              "    <tr>\n",
              "      <th>50%</th>\n",
              "      <td>1.529114e+06</td>\n",
              "      <td>33.000000</td>\n",
              "      <td>1.000000</td>\n",
              "      <td>3.000000</td>\n",
              "      <td>1.000000</td>\n",
              "      <td>18.000000</td>\n",
              "      <td>2.319500e+06</td>\n",
              "      <td>3.000000</td>\n",
              "      <td>0.000000</td>\n",
              "      <td>0.000000</td>\n",
              "      <td>1.000000</td>\n",
              "      <td>0.000000</td>\n",
              "    </tr>\n",
              "    <tr>\n",
              "      <th>75%</th>\n",
              "      <td>1.707752e+06</td>\n",
              "      <td>42.000000</td>\n",
              "      <td>1.000000</td>\n",
              "      <td>4.000000</td>\n",
              "      <td>1.000000</td>\n",
              "      <td>24.000000</td>\n",
              "      <td>3.972250e+06</td>\n",
              "      <td>4.000000</td>\n",
              "      <td>0.000000</td>\n",
              "      <td>0.000000</td>\n",
              "      <td>2.000000</td>\n",
              "      <td>1.000000</td>\n",
              "    </tr>\n",
              "    <tr>\n",
              "      <th>max</th>\n",
              "      <td>1.903505e+06</td>\n",
              "      <td>75.000000</td>\n",
              "      <td>2.000000</td>\n",
              "      <td>4.000000</td>\n",
              "      <td>1.000000</td>\n",
              "      <td>72.000000</td>\n",
              "      <td>1.842400e+07</td>\n",
              "      <td>4.000000</td>\n",
              "      <td>1.000000</td>\n",
              "      <td>1.000000</td>\n",
              "      <td>4.000000</td>\n",
              "      <td>1.000000</td>\n",
              "    </tr>\n",
              "  </tbody>\n",
              "</table>\n",
              "</div>\n",
              "      <button class=\"colab-df-convert\" onclick=\"convertToInteractive('df-0b01d3a6-ee0a-4451-9549-02a640b573f9')\"\n",
              "              title=\"Convert this dataframe to an interactive table.\"\n",
              "              style=\"display:none;\">\n",
              "        \n",
              "  <svg xmlns=\"http://www.w3.org/2000/svg\" height=\"24px\"viewBox=\"0 0 24 24\"\n",
              "       width=\"24px\">\n",
              "    <path d=\"M0 0h24v24H0V0z\" fill=\"none\"/>\n",
              "    <path d=\"M18.56 5.44l.94 2.06.94-2.06 2.06-.94-2.06-.94-.94-2.06-.94 2.06-2.06.94zm-11 1L8.5 8.5l.94-2.06 2.06-.94-2.06-.94L8.5 2.5l-.94 2.06-2.06.94zm10 10l.94 2.06.94-2.06 2.06-.94-2.06-.94-.94-2.06-.94 2.06-2.06.94z\"/><path d=\"M17.41 7.96l-1.37-1.37c-.4-.4-.92-.59-1.43-.59-.52 0-1.04.2-1.43.59L10.3 9.45l-7.72 7.72c-.78.78-.78 2.05 0 2.83L4 21.41c.39.39.9.59 1.41.59.51 0 1.02-.2 1.41-.59l7.78-7.78 2.81-2.81c.8-.78.8-2.07 0-2.86zM5.41 20L4 18.59l7.72-7.72 1.47 1.35L5.41 20z\"/>\n",
              "  </svg>\n",
              "      </button>\n",
              "      \n",
              "  <style>\n",
              "    .colab-df-container {\n",
              "      display:flex;\n",
              "      flex-wrap:wrap;\n",
              "      gap: 12px;\n",
              "    }\n",
              "\n",
              "    .colab-df-convert {\n",
              "      background-color: #E8F0FE;\n",
              "      border: none;\n",
              "      border-radius: 50%;\n",
              "      cursor: pointer;\n",
              "      display: none;\n",
              "      fill: #1967D2;\n",
              "      height: 32px;\n",
              "      padding: 0 0 0 0;\n",
              "      width: 32px;\n",
              "    }\n",
              "\n",
              "    .colab-df-convert:hover {\n",
              "      background-color: #E2EBFA;\n",
              "      box-shadow: 0px 1px 2px rgba(60, 64, 67, 0.3), 0px 1px 3px 1px rgba(60, 64, 67, 0.15);\n",
              "      fill: #174EA6;\n",
              "    }\n",
              "\n",
              "    [theme=dark] .colab-df-convert {\n",
              "      background-color: #3B4455;\n",
              "      fill: #D2E3FC;\n",
              "    }\n",
              "\n",
              "    [theme=dark] .colab-df-convert:hover {\n",
              "      background-color: #434B5C;\n",
              "      box-shadow: 0px 1px 3px 1px rgba(0, 0, 0, 0.15);\n",
              "      filter: drop-shadow(0px 1px 2px rgba(0, 0, 0, 0.3));\n",
              "      fill: #FFFFFF;\n",
              "    }\n",
              "  </style>\n",
              "\n",
              "      <script>\n",
              "        const buttonEl =\n",
              "          document.querySelector('#df-0b01d3a6-ee0a-4451-9549-02a640b573f9 button.colab-df-convert');\n",
              "        buttonEl.style.display =\n",
              "          google.colab.kernel.accessAllowed ? 'block' : 'none';\n",
              "\n",
              "        async function convertToInteractive(key) {\n",
              "          const element = document.querySelector('#df-0b01d3a6-ee0a-4451-9549-02a640b573f9');\n",
              "          const dataTable =\n",
              "            await google.colab.kernel.invokeFunction('convertToInteractive',\n",
              "                                                     [key], {});\n",
              "          if (!dataTable) return;\n",
              "\n",
              "          const docLinkHtml = 'Like what you see? Visit the ' +\n",
              "            '<a target=\"_blank\" href=https://colab.research.google.com/notebooks/data_table.ipynb>data table notebook</a>'\n",
              "            + ' to learn more about interactive tables.';\n",
              "          element.innerHTML = '';\n",
              "          dataTable['output_type'] = 'display_data';\n",
              "          await google.colab.output.renderOutput(dataTable, element);\n",
              "          const docLink = document.createElement('div');\n",
              "          docLink.innerHTML = docLinkHtml;\n",
              "          element.appendChild(docLink);\n",
              "        }\n",
              "      </script>\n",
              "    </div>\n",
              "  </div>\n",
              "  "
            ]
          },
          "metadata": {},
          "execution_count": 187
        }
      ]
    },
    {
      "cell_type": "code",
      "source": [
        "df_final.info()"
      ],
      "metadata": {
        "colab": {
          "base_uri": "https://localhost:8080/"
        },
        "id": "-VjWVyll5VDq",
        "outputId": "346096b8-c2e1-40ce-ae1f-cb8a9a1a2cfc"
      },
      "execution_count": 188,
      "outputs": [
        {
          "output_type": "stream",
          "name": "stdout",
          "text": [
            "<class 'pandas.core.frame.DataFrame'>\n",
            "Int64Index: 1000 entries, 0 to 999\n",
            "Data columns (total 27 columns):\n",
            " #   Column                                                    Non-Null Count  Dtype \n",
            "---  ------                                                    --------------  ----- \n",
            " 0   applicant_id                                              1000 non-null   int64 \n",
            " 1   Primary_applicant_age_in_years                            1000 non-null   int64 \n",
            " 2   Gender                                                    1000 non-null   object\n",
            " 3   Marital_status                                            1000 non-null   object\n",
            " 4   Number_of_dependents                                      1000 non-null   int64 \n",
            " 5   Housing                                                   1000 non-null   object\n",
            " 6   Years_at_current_residence                                1000 non-null   int64 \n",
            " 7   Employment_status                                         1000 non-null   object\n",
            " 8   Has_been_employed_for_at_least                            938 non-null    object\n",
            " 9   Has_been_employed_for_at_most                             747 non-null    object\n",
            " 10  Telephone                                                 404 non-null    object\n",
            " 11  Foreign_worker                                            1000 non-null   int64 \n",
            " 12  Savings_account_balance                                   817 non-null    object\n",
            " 13  Balance_in_existing_bank_account_(lower_limit_of_bucket)  332 non-null    object\n",
            " 14  Balance_in_existing_bank_account_(upper_limit_of_bucket)  543 non-null    object\n",
            " 15  loan_application_id                                       1000 non-null   object\n",
            " 16  Months_loan_taken_for                                     1000 non-null   int64 \n",
            " 17  Purpose                                                   988 non-null    object\n",
            " 18  Principal_loan_amount                                     1000 non-null   int64 \n",
            " 19  EMI_rate_in_percentage_of_disposable_income               1000 non-null   int64 \n",
            " 20  Property                                                  846 non-null    object\n",
            " 21  Has_coapplicant                                           1000 non-null   int64 \n",
            " 22  Has_guarantor                                             1000 non-null   int64 \n",
            " 23  Other_EMI_plans                                           186 non-null    object\n",
            " 24  Number_of_existing_loans_at_this_bank                     1000 non-null   int64 \n",
            " 25  Loan_history                                              1000 non-null   object\n",
            " 26  high_risk_applicant                                       1000 non-null   int64 \n",
            "dtypes: int64(12), object(15)\n",
            "memory usage: 218.8+ KB\n"
          ]
        }
      ]
    },
    {
      "cell_type": "code",
      "source": [
        "df_final['high_risk_applicant'].value_counts()"
      ],
      "metadata": {
        "colab": {
          "base_uri": "https://localhost:8080/"
        },
        "id": "53j2JfZz5Yxj",
        "outputId": "fb128ac9-3ec2-46fd-8d88-9a4d565454f5"
      },
      "execution_count": 189,
      "outputs": [
        {
          "output_type": "execute_result",
          "data": {
            "text/plain": [
              "0    700\n",
              "1    300\n",
              "Name: high_risk_applicant, dtype: int64"
            ]
          },
          "metadata": {},
          "execution_count": 189
        }
      ]
    },
    {
      "cell_type": "code",
      "source": [
        "num_cols = [col for col in df_final.columns if df_final[col].dtype!='object']\n",
        "\n",
        "cat_cols = [col for col in df_final.columns if df_final[col].dtype=='object']"
      ],
      "metadata": {
        "id": "t_FGXALV5dXT"
      },
      "execution_count": 190,
      "outputs": []
    },
    {
      "cell_type": "code",
      "source": [
        "# correlated heatmap of data\n",
        "\n",
        "plt.figure(figsize = (15, 8))\n",
        "\n",
        "\n",
        "sns.heatmap(df_final.corr(),annot=True,linewidth=2,linecolor='lightgrey')\n",
        "plt.show()"
      ],
      "metadata": {
        "id": "H9S27BUq5iAF",
        "colab": {
          "base_uri": "https://localhost:8080/",
          "height": 710
        },
        "outputId": "2a105598-4799-4182-a50a-021a5894591e"
      },
      "execution_count": 191,
      "outputs": [
        {
          "output_type": "display_data",
          "data": {
            "text/plain": [
              "<Figure size 1080x576 with 2 Axes>"
            ],
            "image/png": "[encoded data removed]"
          },
          "metadata": {
            "needs_background": "light"
          }
        }
      ]
    },
    {
      "cell_type": "code",
      "source": [
        "# let's check count of null values in whole df\n",
        "\n",
        "df_final.isnull().sum().sort_values(ascending=False)"
      ],
      "metadata": {
        "id": "H33R4vA75pi2",
        "colab": {
          "base_uri": "https://localhost:8080/"
        },
        "outputId": "2d68d64e-dc32-4f90-97c7-a67b5fdc5ce3"
      },
      "execution_count": 192,
      "outputs": [
        {
          "output_type": "execute_result",
          "data": {
            "text/plain": [
              "Other_EMI_plans                                             814\n",
              "Balance_in_existing_bank_account_(lower_limit_of_bucket)    668\n",
              "Telephone                                                   596\n",
              "Balance_in_existing_bank_account_(upper_limit_of_bucket)    457\n",
              "Has_been_employed_for_at_most                               253\n",
              "Savings_account_balance                                     183\n",
              "Property                                                    154\n",
              "Has_been_employed_for_at_least                               62\n",
              "Purpose                                                      12\n",
              "Months_loan_taken_for                                         0\n",
              "Loan_history                                                  0\n",
              "Number_of_existing_loans_at_this_bank                         0\n",
              "Has_guarantor                                                 0\n",
              "Has_coapplicant                                               0\n",
              "EMI_rate_in_percentage_of_disposable_income                   0\n",
              "Principal_loan_amount                                         0\n",
              "applicant_id                                                  0\n",
              "loan_application_id                                           0\n",
              "Primary_applicant_age_in_years                                0\n",
              "Foreign_worker                                                0\n",
              "Employment_status                                             0\n",
              "Years_at_current_residence                                    0\n",
              "Housing                                                       0\n",
              "Number_of_dependents                                          0\n",
              "Marital_status                                                0\n",
              "Gender                                                        0\n",
              "high_risk_applicant                                           0\n",
              "dtype: int64"
            ]
          },
          "metadata": {},
          "execution_count": 192
        }
      ]
    },
    {
      "cell_type": "code",
      "source": [
        "# let's check count of null values in num_cols\n",
        "\n",
        "df_final[num_cols].isnull().sum().sort_values(ascending=False)"
      ],
      "metadata": {
        "id": "GKG9LEht5_pJ",
        "colab": {
          "base_uri": "https://localhost:8080/"
        },
        "outputId": "f381cb35-60d8-4ded-9e96-4dfb5e6723f9"
      },
      "execution_count": 193,
      "outputs": [
        {
          "output_type": "execute_result",
          "data": {
            "text/plain": [
              "applicant_id                                   0\n",
              "Primary_applicant_age_in_years                 0\n",
              "Number_of_dependents                           0\n",
              "Years_at_current_residence                     0\n",
              "Foreign_worker                                 0\n",
              "Months_loan_taken_for                          0\n",
              "Principal_loan_amount                          0\n",
              "EMI_rate_in_percentage_of_disposable_income    0\n",
              "Has_coapplicant                                0\n",
              "Has_guarantor                                  0\n",
              "Number_of_existing_loans_at_this_bank          0\n",
              "high_risk_applicant                            0\n",
              "dtype: int64"
            ]
          },
          "metadata": {},
          "execution_count": 193
        }
      ]
    },
    {
      "cell_type": "code",
      "source": [
        "# let's check count of null values in cat cols\n",
        "\n",
        "df_final[cat_cols].isnull().sum().sort_values(ascending=False)"
      ],
      "metadata": {
        "id": "cm7daDiY6EuK",
        "colab": {
          "base_uri": "https://localhost:8080/"
        },
        "outputId": "d492149f-fe03-48cc-8f42-8724d764c3df"
      },
      "execution_count": 194,
      "outputs": [
        {
          "output_type": "execute_result",
          "data": {
            "text/plain": [
              "Other_EMI_plans                                             814\n",
              "Balance_in_existing_bank_account_(lower_limit_of_bucket)    668\n",
              "Telephone                                                   596\n",
              "Balance_in_existing_bank_account_(upper_limit_of_bucket)    457\n",
              "Has_been_employed_for_at_most                               253\n",
              "Savings_account_balance                                     183\n",
              "Property                                                    154\n",
              "Has_been_employed_for_at_least                               62\n",
              "Purpose                                                      12\n",
              "Gender                                                        0\n",
              "Marital_status                                                0\n",
              "Housing                                                       0\n",
              "Employment_status                                             0\n",
              "loan_application_id                                           0\n",
              "Loan_history                                                  0\n",
              "dtype: int64"
            ]
          },
          "metadata": {},
          "execution_count": 194
        }
      ]
    },
    {
      "cell_type": "code",
      "source": [
        "# creating func for imputing most common value(modal value)\n",
        "def impute_mode(feature):\n",
        "    mode = df_final[feature].mode()[0]\n",
        "    df_final[feature] = df_final[feature].fillna(mode)"
      ],
      "metadata": {
        "id": "IjOQ3TPAylme"
      },
      "execution_count": 195,
      "outputs": []
    },
    {
      "cell_type": "code",
      "source": [
        "# filling null valuesfor  cat_cols using mode imputation\n",
        "for col in cat_cols:\n",
        "  impute_mode(col)"
      ],
      "metadata": {
        "id": "YaUBmrCg6MEQ"
      },
      "execution_count": 196,
      "outputs": []
    },
    {
      "cell_type": "code",
      "source": [
        "# let's check count of null values in cat_cols again\n",
        "\n",
        "df_final[cat_cols].isnull().sum().sort_values(ascending=False)"
      ],
      "metadata": {
        "id": "PmARm2Sk6SJ9",
        "colab": {
          "base_uri": "https://localhost:8080/"
        },
        "outputId": "c0e958f5-7475-4b10-fd54-b7e031163a1e"
      },
      "execution_count": 197,
      "outputs": [
        {
          "output_type": "execute_result",
          "data": {
            "text/plain": [
              "Gender                                                      0\n",
              "Marital_status                                              0\n",
              "Housing                                                     0\n",
              "Employment_status                                           0\n",
              "Has_been_employed_for_at_least                              0\n",
              "Has_been_employed_for_at_most                               0\n",
              "Telephone                                                   0\n",
              "Savings_account_balance                                     0\n",
              "Balance_in_existing_bank_account_(lower_limit_of_bucket)    0\n",
              "Balance_in_existing_bank_account_(upper_limit_of_bucket)    0\n",
              "loan_application_id                                         0\n",
              "Purpose                                                     0\n",
              "Property                                                    0\n",
              "Other_EMI_plans                                             0\n",
              "Loan_history                                                0\n",
              "dtype: int64"
            ]
          },
          "metadata": {},
          "execution_count": 197
        }
      ]
    },
    {
      "cell_type": "code",
      "source": [
        "df_final[cat_cols].columns"
      ],
      "metadata": {
        "id": "sOJaca2e6Uy0",
        "colab": {
          "base_uri": "https://localhost:8080/"
        },
        "outputId": "0fa2256e-e6ef-4cbb-ff1d-0116666f0d1c"
      },
      "execution_count": 198,
      "outputs": [
        {
          "output_type": "execute_result",
          "data": {
            "text/plain": [
              "Index(['Gender', 'Marital_status', 'Housing', 'Employment_status',\n",
              "       'Has_been_employed_for_at_least', 'Has_been_employed_for_at_most',\n",
              "       'Telephone', 'Savings_account_balance',\n",
              "       'Balance_in_existing_bank_account_(lower_limit_of_bucket)',\n",
              "       'Balance_in_existing_bank_account_(upper_limit_of_bucket)',\n",
              "       'loan_application_id', 'Purpose', 'Property', 'Other_EMI_plans',\n",
              "       'Loan_history'],\n",
              "      dtype='object')"
            ]
          },
          "metadata": {},
          "execution_count": 198
        }
      ]
    },
    {
      "cell_type": "code",
      "source": [
        "# downloading the data to view it in power Bi for visualization report\n",
        "df_final.to_csv('loan_report.csv')"
      ],
      "metadata": {
        "id": "DczeRFQh1E7K"
      },
      "execution_count": 199,
      "outputs": []
    },
    {
      "cell_type": "code",
      "source": [
        "# using labelencoder and applying on cat cols\n",
        "from sklearn.preprocessing import LabelEncoder\n",
        "\n",
        "le = LabelEncoder()\n",
        "\n",
        "for col in cat_cols[0:]:\n",
        "    df_final[col] = le.fit_transform(df_final[col])"
      ],
      "metadata": {
        "id": "XL9uoB0D6fyF"
      },
      "execution_count": 200,
      "outputs": []
    },
    {
      "cell_type": "code",
      "source": [
        "df_final.head()"
      ],
      "metadata": {
        "id": "6YDpBxGX6kJB",
        "colab": {
          "base_uri": "https://localhost:8080/",
          "height": 300
        },
        "outputId": "faaa6e17-0b69-4536-89ca-195fff46f6fa"
      },
      "execution_count": 201,
      "outputs": [
        {
          "output_type": "execute_result",
          "data": {
            "text/plain": [
              "   applicant_id  Primary_applicant_age_in_years  Gender  Marital_status  \\\n",
              "0       1469590                              67       1               3   \n",
              "1       1203873                              22       0               1   \n",
              "2       1432761                              49       1               3   \n",
              "3       1207582                              45       1               3   \n",
              "4       1674436                              53       1               3   \n",
              "\n",
              "   Number_of_dependents  Housing  Years_at_current_residence  \\\n",
              "0                     1        1                           4   \n",
              "1                     1        1                           2   \n",
              "2                     2        1                           3   \n",
              "3                     2        0                           4   \n",
              "4                     2        0                           4   \n",
              "\n",
              "   Employment_status  Has_been_employed_for_at_least  \\\n",
              "0                  1                               3   \n",
              "1                  1                               1   \n",
              "2                  3                               2   \n",
              "3                  1                               2   \n",
              "4                  1                               1   \n",
              "\n",
              "   Has_been_employed_for_at_most  ...  Purpose  Principal_loan_amount  \\\n",
              "0                              2  ...        5                1169000   \n",
              "1                              2  ...        5                5951000   \n",
              "2                              3  ...        4                2096000   \n",
              "3                              3  ...        0                7882000   \n",
              "4                              2  ...        6                4870000   \n",
              "\n",
              "   EMI_rate_in_percentage_of_disposable_income  Property  Has_coapplicant  \\\n",
              "0                                            4         2                0   \n",
              "1                                            2         2                0   \n",
              "2                                            2         2                0   \n",
              "3                                            2         0                0   \n",
              "4                                            3         1                0   \n",
              "\n",
              "   Has_guarantor  Other_EMI_plans  Number_of_existing_loans_at_this_bank  \\\n",
              "0              0                0                                      2   \n",
              "1              0                0                                      1   \n",
              "2              0                0                                      1   \n",
              "3              1                0                                      1   \n",
              "4              0                0                                      2   \n",
              "\n",
              "   Loan_history  high_risk_applicant  \n",
              "0             1                    0  \n",
              "1             3                    1  \n",
              "2             1                    0  \n",
              "3             3                    0  \n",
              "4             2                    1  \n",
              "\n",
              "[5 rows x 27 columns]"
            ],
            "text/html": [
              "\n",
              "  <div id=\"df-2c094f79-f24e-4f27-9836-28b223952658\">\n",
              "    <div class=\"colab-df-container\">\n",
              "      <div>\n",
              "<style scoped>\n",
              "    .dataframe tbody tr th:only-of-type {\n",
              "        vertical-align: middle;\n",
              "    }\n",
              "\n",
              "    .dataframe tbody tr th {\n",
              "        vertical-align: top;\n",
              "    }\n",
              "\n",
              "    .dataframe thead th {\n",
              "        text-align: right;\n",
              "    }\n",
              "</style>\n",
              "<table border=\"1\" class=\"dataframe\">\n",
              "  <thead>\n",
              "    <tr style=\"text-align: right;\">\n",
              "      <th></th>\n",
              "      <th>applicant_id</th>\n",
              "      <th>Primary_applicant_age_in_years</th>\n",
              "      <th>Gender</th>\n",
              "      <th>Marital_status</th>\n",
              "      <th>Number_of_dependents</th>\n",
              "      <th>Housing</th>\n",
              "      <th>Years_at_current_residence</th>\n",
              "      <th>Employment_status</th>\n",
              "      <th>Has_been_employed_for_at_least</th>\n",
              "      <th>Has_been_employed_for_at_most</th>\n",
              "      <th>...</th>\n",
              "      <th>Purpose</th>\n",
              "      <th>Principal_loan_amount</th>\n",
              "      <th>EMI_rate_in_percentage_of_disposable_income</th>\n",
              "      <th>Property</th>\n",
              "      <th>Has_coapplicant</th>\n",
              "      <th>Has_guarantor</th>\n",
              "      <th>Other_EMI_plans</th>\n",
              "      <th>Number_of_existing_loans_at_this_bank</th>\n",
              "      <th>Loan_history</th>\n",
              "      <th>high_risk_applicant</th>\n",
              "    </tr>\n",
              "  </thead>\n",
              "  <tbody>\n",
              "    <tr>\n",
              "      <th>0</th>\n",
              "      <td>1469590</td>\n",
              "      <td>67</td>\n",
              "      <td>1</td>\n",
              "      <td>3</td>\n",
              "      <td>1</td>\n",
              "      <td>1</td>\n",
              "      <td>4</td>\n",
              "      <td>1</td>\n",
              "      <td>3</td>\n",
              "      <td>2</td>\n",
              "      <td>...</td>\n",
              "      <td>5</td>\n",
              "      <td>1169000</td>\n",
              "      <td>4</td>\n",
              "      <td>2</td>\n",
              "      <td>0</td>\n",
              "      <td>0</td>\n",
              "      <td>0</td>\n",
              "      <td>2</td>\n",
              "      <td>1</td>\n",
              "      <td>0</td>\n",
              "    </tr>\n",
              "    <tr>\n",
              "      <th>1</th>\n",
              "      <td>1203873</td>\n",
              "      <td>22</td>\n",
              "      <td>0</td>\n",
              "      <td>1</td>\n",
              "      <td>1</td>\n",
              "      <td>1</td>\n",
              "      <td>2</td>\n",
              "      <td>1</td>\n",
              "      <td>1</td>\n",
              "      <td>2</td>\n",
              "      <td>...</td>\n",
              "      <td>5</td>\n",
              "      <td>5951000</td>\n",
              "      <td>2</td>\n",
              "      <td>2</td>\n",
              "      <td>0</td>\n",
              "      <td>0</td>\n",
              "      <td>0</td>\n",
              "      <td>1</td>\n",
              "      <td>3</td>\n",
              "      <td>1</td>\n",
              "    </tr>\n",
              "    <tr>\n",
              "      <th>2</th>\n",
              "      <td>1432761</td>\n",
              "      <td>49</td>\n",
              "      <td>1</td>\n",
              "      <td>3</td>\n",
              "      <td>2</td>\n",
              "      <td>1</td>\n",
              "      <td>3</td>\n",
              "      <td>3</td>\n",
              "      <td>2</td>\n",
              "      <td>3</td>\n",
              "      <td>...</td>\n",
              "      <td>4</td>\n",
              "      <td>2096000</td>\n",
              "      <td>2</td>\n",
              "      <td>2</td>\n",
              "      <td>0</td>\n",
              "      <td>0</td>\n",
              "      <td>0</td>\n",
              "      <td>1</td>\n",
              "      <td>1</td>\n",
              "      <td>0</td>\n",
              "    </tr>\n",
              "    <tr>\n",
              "      <th>3</th>\n",
              "      <td>1207582</td>\n",
              "      <td>45</td>\n",
              "      <td>1</td>\n",
              "      <td>3</td>\n",
              "      <td>2</td>\n",
              "      <td>0</td>\n",
              "      <td>4</td>\n",
              "      <td>1</td>\n",
              "      <td>2</td>\n",
              "      <td>3</td>\n",
              "      <td>...</td>\n",
              "      <td>0</td>\n",
              "      <td>7882000</td>\n",
              "      <td>2</td>\n",
              "      <td>0</td>\n",
              "      <td>0</td>\n",
              "      <td>1</td>\n",
              "      <td>0</td>\n",
              "      <td>1</td>\n",
              "      <td>3</td>\n",
              "      <td>0</td>\n",
              "    </tr>\n",
              "    <tr>\n",
              "      <th>4</th>\n",
              "      <td>1674436</td>\n",
              "      <td>53</td>\n",
              "      <td>1</td>\n",
              "      <td>3</td>\n",
              "      <td>2</td>\n",
              "      <td>0</td>\n",
              "      <td>4</td>\n",
              "      <td>1</td>\n",
              "      <td>1</td>\n",
              "      <td>2</td>\n",
              "      <td>...</td>\n",
              "      <td>6</td>\n",
              "      <td>4870000</td>\n",
              "      <td>3</td>\n",
              "      <td>1</td>\n",
              "      <td>0</td>\n",
              "      <td>0</td>\n",
              "      <td>0</td>\n",
              "      <td>2</td>\n",
              "      <td>2</td>\n",
              "      <td>1</td>\n",
              "    </tr>\n",
              "  </tbody>\n",
              "</table>\n",
              "<p>5 rows × 27 columns</p>\n",
              "</div>\n",
              "      <button class=\"colab-df-convert\" onclick=\"convertToInteractive('df-2c094f79-f24e-4f27-9836-28b223952658')\"\n",
              "              title=\"Convert this dataframe to an interactive table.\"\n",
              "              style=\"display:none;\">\n",
              "        \n",
              "  <svg xmlns=\"http://www.w3.org/2000/svg\" height=\"24px\"viewBox=\"0 0 24 24\"\n",
              "       width=\"24px\">\n",
              "    <path d=\"M0 0h24v24H0V0z\" fill=\"none\"/>\n",
              "    <path d=\"M18.56 5.44l.94 2.06.94-2.06 2.06-.94-2.06-.94-.94-2.06-.94 2.06-2.06.94zm-11 1L8.5 8.5l.94-2.06 2.06-.94-2.06-.94L8.5 2.5l-.94 2.06-2.06.94zm10 10l.94 2.06.94-2.06 2.06-.94-2.06-.94-.94-2.06-.94 2.06-2.06.94z\"/><path d=\"M17.41 7.96l-1.37-1.37c-.4-.4-.92-.59-1.43-.59-.52 0-1.04.2-1.43.59L10.3 9.45l-7.72 7.72c-.78.78-.78 2.05 0 2.83L4 21.41c.39.39.9.59 1.41.59.51 0 1.02-.2 1.41-.59l7.78-7.78 2.81-2.81c.8-.78.8-2.07 0-2.86zM5.41 20L4 18.59l7.72-7.72 1.47 1.35L5.41 20z\"/>\n",
              "  </svg>\n",
              "      </button>\n",
              "      \n",
              "  <style>\n",
              "    .colab-df-container {\n",
              "      display:flex;\n",
              "      flex-wrap:wrap;\n",
              "      gap: 12px;\n",
              "    }\n",
              "\n",
              "    .colab-df-convert {\n",
              "      background-color: #E8F0FE;\n",
              "      border: none;\n",
              "      border-radius: 50%;\n",
              "      cursor: pointer;\n",
              "      display: none;\n",
              "      fill: #1967D2;\n",
              "      height: 32px;\n",
              "      padding: 0 0 0 0;\n",
              "      width: 32px;\n",
              "    }\n",
              "\n",
              "    .colab-df-convert:hover {\n",
              "      background-color: #E2EBFA;\n",
              "      box-shadow: 0px 1px 2px rgba(60, 64, 67, 0.3), 0px 1px 3px 1px rgba(60, 64, 67, 0.15);\n",
              "      fill: #174EA6;\n",
              "    }\n",
              "\n",
              "    [theme=dark] .colab-df-convert {\n",
              "      background-color: #3B4455;\n",
              "      fill: #D2E3FC;\n",
              "    }\n",
              "\n",
              "    [theme=dark] .colab-df-convert:hover {\n",
              "      background-color: #434B5C;\n",
              "      box-shadow: 0px 1px 3px 1px rgba(0, 0, 0, 0.15);\n",
              "      filter: drop-shadow(0px 1px 2px rgba(0, 0, 0, 0.3));\n",
              "      fill: #FFFFFF;\n",
              "    }\n",
              "  </style>\n",
              "\n",
              "      <script>\n",
              "        const buttonEl =\n",
              "          document.querySelector('#df-2c094f79-f24e-4f27-9836-28b223952658 button.colab-df-convert');\n",
              "        buttonEl.style.display =\n",
              "          google.colab.kernel.accessAllowed ? 'block' : 'none';\n",
              "\n",
              "        async function convertToInteractive(key) {\n",
              "          const element = document.querySelector('#df-2c094f79-f24e-4f27-9836-28b223952658');\n",
              "          const dataTable =\n",
              "            await google.colab.kernel.invokeFunction('convertToInteractive',\n",
              "                                                     [key], {});\n",
              "          if (!dataTable) return;\n",
              "\n",
              "          const docLinkHtml = 'Like what you see? Visit the ' +\n",
              "            '<a target=\"_blank\" href=https://colab.research.google.com/notebooks/data_table.ipynb>data table notebook</a>'\n",
              "            + ' to learn more about interactive tables.';\n",
              "          element.innerHTML = '';\n",
              "          dataTable['output_type'] = 'display_data';\n",
              "          await google.colab.output.renderOutput(dataTable, element);\n",
              "          const docLink = document.createElement('div');\n",
              "          docLink.innerHTML = docLinkHtml;\n",
              "          element.appendChild(docLink);\n",
              "        }\n",
              "      </script>\n",
              "    </div>\n",
              "  </div>\n",
              "  "
            ]
          },
          "metadata": {},
          "execution_count": 201
        }
      ]
    },
    {
      "cell_type": "markdown",
      "source": [
        "**Model Building**\n",
        "1. Split the Data into Training and Testing Sets"
      ],
      "metadata": {
        "id": "IzeRsRgetxaY"
      }
    },
    {
      "cell_type": "code",
      "source": [
        "X = df_final.drop('high_risk_applicant',axis=1)\n",
        "y = df_final['high_risk_applicant']"
      ],
      "metadata": {
        "id": "pKQinQBB6nlr"
      },
      "execution_count": 202,
      "outputs": []
    },
    {
      "cell_type": "markdown",
      "source": [
        "Step 2: Create the labels set (y) from the 'high_risk_applicant column, and then create the features (X) DataFrame from the remaining columns."
      ],
      "metadata": {
        "id": "NNA3JKhbtzur"
      }
    },
    {
      "cell_type": "markdown",
      "source": [
        "Step 3: Split the data into training and testing datasets by using train_test_split."
      ],
      "metadata": {
        "id": "XeUPa4Wmv9ro"
      }
    },
    {
      "cell_type": "code",
      "source": [
        "# Split the data using train_test_split\n",
        "from sklearn.model_selection import train_test_split\n",
        "X_train, X_test, y_train, y_test = train_test_split(X, y,test_size=0.3, random_state = 1)"
      ],
      "metadata": {
        "id": "xzUL2ZBvv7Ek"
      },
      "execution_count": 203,
      "outputs": []
    },
    {
      "cell_type": "markdown",
      "source": [
        "Logistic Regression Model with the Original Data\n",
        "\n",
        "Step 4: Fit a logistic regression model by using the training data (X_train and y_train)."
      ],
      "metadata": {
        "id": "bGcMpgwOuKZ4"
      }
    },
    {
      "cell_type": "code",
      "source": [
        "# Create the Logistic Regression model.\n",
        "from sklearn.linear_model import LogisticRegression\n",
        "logistic_regression_model = LogisticRegression()\n",
        "\n",
        "# Fit the model using training data.\n",
        "lr_model = logistic_regression_model.fit(X_train, y_train)"
      ],
      "metadata": {
        "id": "o1PjvMm36rEd"
      },
      "execution_count": 204,
      "outputs": []
    },
    {
      "cell_type": "markdown",
      "source": [
        "Step 5: Save the predictions on the testing data labels by using the testing feature data (X_test) and the fitted model.\n"
      ],
      "metadata": {
        "id": "ZQ8XMrrZsNak"
      }
    },
    {
      "cell_type": "code",
      "source": [
        "# Make a prediction using the testing data.\n",
        "y_pred = logistic_regression_model.predict(X_test)"
      ],
      "metadata": {
        "id": "sWnkp5k5sRL9"
      },
      "execution_count": 205,
      "outputs": []
    },
    {
      "cell_type": "markdown",
      "source": [
        "\n",
        "Step 6: Evaluate the model’s performance by doing the following:"
      ],
      "metadata": {
        "id": "u51FUKX4u-WQ"
      }
    },
    {
      "cell_type": "code",
      "source": [
        "from sklearn.metrics import classification_report,accuracy_score,confusion_matrix\n",
        "# Print the accuracy score of the model.\n",
        "print('Training accuracy score :',accuracy_score(y_train,logistic_regression_model.predict(X_train)))\n"
      ],
      "metadata": {
        "colab": {
          "base_uri": "https://localhost:8080/"
        },
        "id": "araurRHeu95p",
        "outputId": "46435ca5-e60b-4217-eedc-177ade0b7871"
      },
      "execution_count": 206,
      "outputs": [
        {
          "output_type": "stream",
          "name": "stdout",
          "text": [
            "Training accuracy score : 0.7071428571428572\n"
          ]
        }
      ]
    },
    {
      "cell_type": "code",
      "source": [
        "log_acc  = accuracy_score(y_test,y_pred)\n",
        "print(f'Test Accuracy of Logistic regression {log_acc} \\n')\n",
        "\n",
        "print(f'Confusion Matrix :- \\n{confusion_matrix(y_test,y_pred)}\\n')\n",
        "print(f'Classification Report :- \\n{classification_report(y_test,y_pred)}')"
      ],
      "metadata": {
        "colab": {
          "base_uri": "https://localhost:8080/"
        },
        "id": "rNtlk4kNwa7K",
        "outputId": "1d5cefab-0d6e-44a7-cf54-bb540ed1a3f2"
      },
      "execution_count": 207,
      "outputs": [
        {
          "output_type": "stream",
          "name": "stdout",
          "text": [
            "Test Accuracy of Logistic regression 0.7066666666666667 \n",
            "\n",
            "Confusion Matrix :- \n",
            "[[208   6]\n",
            " [ 82   4]]\n",
            "\n",
            "Classification Report :- \n",
            "              precision    recall  f1-score   support\n",
            "\n",
            "           0       0.72      0.97      0.83       214\n",
            "           1       0.40      0.05      0.08        86\n",
            "\n",
            "    accuracy                           0.71       300\n",
            "   macro avg       0.56      0.51      0.45       300\n",
            "weighted avg       0.63      0.71      0.61       300\n",
            "\n"
          ]
        }
      ]
    },
    {
      "cell_type": "markdown",
      "source": [
        "**Random Forest Classifier**"
      ],
      "metadata": {
        "id": "O7LN-k3N1Klr"
      }
    },
    {
      "cell_type": "code",
      "source": [
        "# import RandomForestClassifier\n",
        "\n",
        "from sklearn.ensemble import RandomForestClassifier\n",
        "from sklearn.metrics import classification_report,accuracy_score,confusion_matrix\n",
        "rd_clf = RandomForestClassifier()\n",
        "\n",
        "rd_clf.fit(X_train,y_train)\n",
        "\n",
        "# accuracy score, confusion matrix and classification report of random forest\n",
        "\n",
        "rd_clf_acc  = accuracy_score(y_test,rd_clf.predict(X_test))\n",
        "\n",
        "print(f'Training Accuracy of Random Forest Classifier is {accuracy_score(y_train,rd_clf.predict(X_train))}')\n",
        "print(f'Test Accuracy of Random Forest Classifier is {rd_clf_acc} \\n')\n",
        "\n",
        "print(f'Confusion Matrix :- \\n{confusion_matrix(y_test,rd_clf.predict(X_test))}\\n')\n",
        "print(f'Classification Report :- \\n{classification_report(y_test,rd_clf.predict(X_test))}')"
      ],
      "metadata": {
        "colab": {
          "base_uri": "https://localhost:8080/"
        },
        "id": "wBFPWtxQsRIK",
        "outputId": "688e75af-701d-4fd3-efca-3a5a8a524d38"
      },
      "execution_count": 208,
      "outputs": [
        {
          "output_type": "stream",
          "name": "stdout",
          "text": [
            "Training Accuracy of Random Forest Classifier is 1.0\n",
            "Test Accuracy of Random Forest Classifier is 0.73 \n",
            "\n",
            "Confusion Matrix :- \n",
            "[[201  13]\n",
            " [ 68  18]]\n",
            "\n",
            "Classification Report :- \n",
            "              precision    recall  f1-score   support\n",
            "\n",
            "           0       0.75      0.94      0.83       214\n",
            "           1       0.58      0.21      0.31        86\n",
            "\n",
            "    accuracy                           0.73       300\n",
            "   macro avg       0.66      0.57      0.57       300\n",
            "weighted avg       0.70      0.73      0.68       300\n",
            "\n"
          ]
        }
      ]
    },
    {
      "cell_type": "markdown",
      "source": [
        "**Gradient Boosting Classifier**"
      ],
      "metadata": {
        "id": "5KoP7ao2yH7N"
      }
    },
    {
      "cell_type": "code",
      "source": [
        "# import GradientBoostingClassifier\n",
        "from sklearn.ensemble import GradientBoostingClassifier\n",
        "\n",
        "gb = GradientBoostingClassifier()\n",
        "\n",
        "gb.fit(X_train,y_train)\n",
        "# accuracy score, confusion matrix and classification report of gradient boosting classifier\n",
        "\n",
        "gb_acc = accuracy_score(y_test,gb.predict(X_test))\n",
        "\n",
        "print(f'Training Accuracy of GBC is {accuracy_score(y_train,gb.predict(X_train))}')\n",
        "print(f'Test Accuracy of GBC is {gb_acc} \\n')\n",
        "\n",
        "print(f'Confusion Matrix :- \\n{confusion_matrix(y_test,gb.predict(X_test))}\\n')\n",
        "print(f'Classification Report :- \\n{classification_report(y_test,gb.predict(X_test))}')\n",
        "\n"
      ],
      "metadata": {
        "colab": {
          "base_uri": "https://localhost:8080/"
        },
        "id": "QoOZQ_Y-sRGl",
        "outputId": "a3f74692-10f9-4595-80fc-bda1490aecca"
      },
      "execution_count": 209,
      "outputs": [
        {
          "output_type": "stream",
          "name": "stdout",
          "text": [
            "Training Accuracy of GBC is 0.91\n",
            "Test Accuracy of GBC is 0.7233333333333334 \n",
            "\n",
            "Confusion Matrix :- \n",
            "[[192  22]\n",
            " [ 61  25]]\n",
            "\n",
            "Classification Report :- \n",
            "              precision    recall  f1-score   support\n",
            "\n",
            "           0       0.76      0.90      0.82       214\n",
            "           1       0.53      0.29      0.38        86\n",
            "\n",
            "    accuracy                           0.72       300\n",
            "   macro avg       0.65      0.59      0.60       300\n",
            "weighted avg       0.69      0.72      0.69       300\n",
            "\n"
          ]
        }
      ]
    },
    {
      "cell_type": "markdown",
      "source": [
        "**Hyperparameter Tuning on Random Forest**"
      ],
      "metadata": {
        "id": "7tMF6so_PgVd"
      }
    },
    {
      "cell_type": "code",
      "source": [
        "from sklearn.model_selection import GridSearchCV\n"
      ],
      "metadata": {
        "id": "Wt_uZvDyPjGV"
      },
      "execution_count": 210,
      "outputs": []
    },
    {
      "cell_type": "code",
      "source": [
        "#params=dict(n_estimators=[100,110,120],max_depth=[2,3,4])\n",
        "params = { \n",
        "    'n_estimators': [200, 500],\n",
        "    'max_features': ['auto', 'sqrt', 'log2'],\n",
        "    'max_depth' : [4,5,6,7,8],\n",
        "    'criterion' :['gini', 'entropy']\n",
        "}"
      ],
      "metadata": {
        "id": "1HQxBK9kP37x"
      },
      "execution_count": 234,
      "outputs": []
    },
    {
      "cell_type": "code",
      "source": [
        "rf1=GridSearchCV(rd_clf,param_grid=params,verbose=1)"
      ],
      "metadata": {
        "id": "AU7a23FoP0yJ"
      },
      "execution_count": 235,
      "outputs": []
    },
    {
      "cell_type": "code",
      "source": [
        "%timeit\n",
        "rf1.fit(X_train,y_train)"
      ],
      "metadata": {
        "colab": {
          "base_uri": "https://localhost:8080/"
        },
        "id": "Q1tX7QZaP8Q5",
        "outputId": "801b9e53-516a-4186-c705-27cb6301398b"
      },
      "execution_count": 236,
      "outputs": [
        {
          "output_type": "stream",
          "name": "stdout",
          "text": [
            "Fitting 5 folds for each of 60 candidates, totalling 300 fits\n"
          ]
        },
        {
          "output_type": "execute_result",
          "data": {
            "text/plain": [
              "GridSearchCV(estimator=RandomForestClassifier(),\n",
              "             param_grid={'criterion': ['gini', 'entropy'],\n",
              "                         'max_depth': [4, 5, 6, 7, 8],\n",
              "                         'max_features': ['auto', 'sqrt', 'log2'],\n",
              "                         'n_estimators': [200, 500]},\n",
              "             verbose=1)"
            ]
          },
          "metadata": {},
          "execution_count": 236
        }
      ]
    },
    {
      "cell_type": "code",
      "source": [
        "rf1.best_params_"
      ],
      "metadata": {
        "colab": {
          "base_uri": "https://localhost:8080/"
        },
        "id": "OOCtl7FQQBj4",
        "outputId": "e74cc198-76cc-4912-fcf3-1b6804a9209f"
      },
      "execution_count": 237,
      "outputs": [
        {
          "output_type": "execute_result",
          "data": {
            "text/plain": [
              "{'criterion': 'gini',\n",
              " 'max_depth': 8,\n",
              " 'max_features': 'log2',\n",
              " 'n_estimators': 200}"
            ]
          },
          "metadata": {},
          "execution_count": 237
        }
      ]
    },
    {
      "cell_type": "code",
      "source": [
        "rf1.best_estimator_"
      ],
      "metadata": {
        "colab": {
          "base_uri": "https://localhost:8080/"
        },
        "id": "PMDh0XDCQBhD",
        "outputId": "3073546e-a916-4f3d-f819-6f9d0fac965e"
      },
      "execution_count": 238,
      "outputs": [
        {
          "output_type": "execute_result",
          "data": {
            "text/plain": [
              "RandomForestClassifier(max_depth=8, max_features='log2', n_estimators=200)"
            ]
          },
          "metadata": {},
          "execution_count": 238
        }
      ]
    },
    {
      "cell_type": "code",
      "source": [
        "#Accuracy\n",
        "rf1.score(X_test,y_test)"
      ],
      "metadata": {
        "colab": {
          "base_uri": "https://localhost:8080/"
        },
        "id": "N4EUCkkBQV5b",
        "outputId": "9d9bcb34-4046-4b9f-d0f5-bef282b10cc6"
      },
      "execution_count": 239,
      "outputs": [
        {
          "output_type": "execute_result",
          "data": {
            "text/plain": [
              "0.7266666666666667"
            ]
          },
          "metadata": {},
          "execution_count": 239
        }
      ]
    },
    {
      "cell_type": "code",
      "source": [
        "y_pred1=rf1.predict(X_test)"
      ],
      "metadata": {
        "id": "MWNuWdZvQjiA"
      },
      "execution_count": 240,
      "outputs": []
    },
    {
      "cell_type": "code",
      "source": [
        "from sklearn.metrics import classification_report,confusion_matrix\n",
        "print(confusion_matrix(y_test,y_pred1))"
      ],
      "metadata": {
        "colab": {
          "base_uri": "https://localhost:8080/"
        },
        "id": "SuMAe9HOQm8Q",
        "outputId": "7ac0d883-b6dd-411c-ae5a-031fb1b45897"
      },
      "execution_count": 241,
      "outputs": [
        {
          "output_type": "stream",
          "name": "stdout",
          "text": [
            "[[205   9]\n",
            " [ 73  13]]\n"
          ]
        }
      ]
    },
    {
      "cell_type": "code",
      "source": [
        "print('classification report of RFC after tuning :\\n',classification_report(y_test,y_pred1))"
      ],
      "metadata": {
        "colab": {
          "base_uri": "https://localhost:8080/"
        },
        "id": "KAKVLhPiQvNn",
        "outputId": "9d152cbe-0d1f-4fb8-fa1d-10f9b6df3d68"
      },
      "execution_count": 242,
      "outputs": [
        {
          "output_type": "stream",
          "name": "stdout",
          "text": [
            "classification report of RFC after tuning :\n",
            "               precision    recall  f1-score   support\n",
            "\n",
            "           0       0.74      0.96      0.83       214\n",
            "           1       0.59      0.15      0.24        86\n",
            "\n",
            "    accuracy                           0.73       300\n",
            "   macro avg       0.66      0.55      0.54       300\n",
            "weighted avg       0.70      0.73      0.66       300\n",
            "\n"
          ]
        }
      ]
    },
    {
      "cell_type": "markdown",
      "source": [
        "**The Conclusion from Model Building**\n",
        "\n",
        "Therefore Random Forest Classifier is the best model for this prediction since it has an accuracy_score of 0.72."
      ],
      "metadata": {
        "id": "cZkxMqZ0IvHO"
      }
    },
    {
      "cell_type": "markdown",
      "source": [
        "Saving Model "
      ],
      "metadata": {
        "id": "wH712vSlJtid"
      }
    },
    {
      "cell_type": "code",
      "source": [
        "#saving it for local folder \n",
        "import pickle \n",
        "filename ='trained_model.sav'\n",
        "pickle.dump(rf1,open(filename,'wb'))\n",
        "\n",
        "loaded_model = pickle.load(open('trained_model.sav','rb'))"
      ],
      "metadata": {
        "id": "pqV-DzS1IQUB"
      },
      "execution_count": 220,
      "outputs": []
    },
    {
      "cell_type": "markdown",
      "source": [
        "Putting data points in the model will either return 0 or 1"
      ],
      "metadata": {
        "id": "opjsxoGzKeWf"
      }
    },
    {
      "cell_type": "code",
      "source": [
        "rf1.predict([[1469590,67,1,3,1,1,4,1,3,3,0,1,2,1,0,0,6,5,1169000,4,2,0,0,0,2,1]]) # 1st applicant"
      ],
      "metadata": {
        "colab": {
          "base_uri": "https://localhost:8080/"
        },
        "id": "crB7r7-jIQRE",
        "outputId": "0ad910a2-b5bf-4390-9a3a-a0b743a9e510"
      },
      "execution_count": 221,
      "outputs": [
        {
          "output_type": "stream",
          "name": "stderr",
          "text": [
            "/usr/local/lib/python3.8/dist-packages/sklearn/base.py:450: UserWarning: X does not have valid feature names, but RandomForestClassifier was fitted with feature names\n",
            "  warnings.warn(\n"
          ]
        },
        {
          "output_type": "execute_result",
          "data": {
            "text/plain": [
              "array([0])"
            ]
          },
          "metadata": {},
          "execution_count": 221
        }
      ]
    },
    {
      "cell_type": "code",
      "source": [
        "df_final.head()"
      ],
      "metadata": {
        "colab": {
          "base_uri": "https://localhost:8080/",
          "height": 300
        },
        "id": "UsBZYmHqIQNv",
        "outputId": "43a03cc9-bcd4-4f1c-ce15-4b71a2abfe42"
      },
      "execution_count": 222,
      "outputs": [
        {
          "output_type": "execute_result",
          "data": {
            "text/plain": [
              "   applicant_id  Primary_applicant_age_in_years  Gender  Marital_status  \\\n",
              "0       1469590                              67       1               3   \n",
              "1       1203873                              22       0               1   \n",
              "2       1432761                              49       1               3   \n",
              "3       1207582                              45       1               3   \n",
              "4       1674436                              53       1               3   \n",
              "\n",
              "   Number_of_dependents  Housing  Years_at_current_residence  \\\n",
              "0                     1        1                           4   \n",
              "1                     1        1                           2   \n",
              "2                     2        1                           3   \n",
              "3                     2        0                           4   \n",
              "4                     2        0                           4   \n",
              "\n",
              "   Employment_status  Has_been_employed_for_at_least  \\\n",
              "0                  1                               3   \n",
              "1                  1                               1   \n",
              "2                  3                               2   \n",
              "3                  1                               2   \n",
              "4                  1                               1   \n",
              "\n",
              "   Has_been_employed_for_at_most  ...  Purpose  Principal_loan_amount  \\\n",
              "0                              2  ...        5                1169000   \n",
              "1                              2  ...        5                5951000   \n",
              "2                              3  ...        4                2096000   \n",
              "3                              3  ...        0                7882000   \n",
              "4                              2  ...        6                4870000   \n",
              "\n",
              "   EMI_rate_in_percentage_of_disposable_income  Property  Has_coapplicant  \\\n",
              "0                                            4         2                0   \n",
              "1                                            2         2                0   \n",
              "2                                            2         2                0   \n",
              "3                                            2         0                0   \n",
              "4                                            3         1                0   \n",
              "\n",
              "   Has_guarantor  Other_EMI_plans  Number_of_existing_loans_at_this_bank  \\\n",
              "0              0                0                                      2   \n",
              "1              0                0                                      1   \n",
              "2              0                0                                      1   \n",
              "3              1                0                                      1   \n",
              "4              0                0                                      2   \n",
              "\n",
              "   Loan_history  high_risk_applicant  \n",
              "0             1                    0  \n",
              "1             3                    1  \n",
              "2             1                    0  \n",
              "3             3                    0  \n",
              "4             2                    1  \n",
              "\n",
              "[5 rows x 27 columns]"
            ],
            "text/html": [
              "\n",
              "  <div id=\"df-e9959a92-ba96-404a-9fd2-40704914596c\">\n",
              "    <div class=\"colab-df-container\">\n",
              "      <div>\n",
              "<style scoped>\n",
              "    .dataframe tbody tr th:only-of-type {\n",
              "        vertical-align: middle;\n",
              "    }\n",
              "\n",
              "    .dataframe tbody tr th {\n",
              "        vertical-align: top;\n",
              "    }\n",
              "\n",
              "    .dataframe thead th {\n",
              "        text-align: right;\n",
              "    }\n",
              "</style>\n",
              "<table border=\"1\" class=\"dataframe\">\n",
              "  <thead>\n",
              "    <tr style=\"text-align: right;\">\n",
              "      <th></th>\n",
              "      <th>applicant_id</th>\n",
              "      <th>Primary_applicant_age_in_years</th>\n",
              "      <th>Gender</th>\n",
              "      <th>Marital_status</th>\n",
              "      <th>Number_of_dependents</th>\n",
              "      <th>Housing</th>\n",
              "      <th>Years_at_current_residence</th>\n",
              "      <th>Employment_status</th>\n",
              "      <th>Has_been_employed_for_at_least</th>\n",
              "      <th>Has_been_employed_for_at_most</th>\n",
              "      <th>...</th>\n",
              "      <th>Purpose</th>\n",
              "      <th>Principal_loan_amount</th>\n",
              "      <th>EMI_rate_in_percentage_of_disposable_income</th>\n",
              "      <th>Property</th>\n",
              "      <th>Has_coapplicant</th>\n",
              "      <th>Has_guarantor</th>\n",
              "      <th>Other_EMI_plans</th>\n",
              "      <th>Number_of_existing_loans_at_this_bank</th>\n",
              "      <th>Loan_history</th>\n",
              "      <th>high_risk_applicant</th>\n",
              "    </tr>\n",
              "  </thead>\n",
              "  <tbody>\n",
              "    <tr>\n",
              "      <th>0</th>\n",
              "      <td>1469590</td>\n",
              "      <td>67</td>\n",
              "      <td>1</td>\n",
              "      <td>3</td>\n",
              "      <td>1</td>\n",
              "      <td>1</td>\n",
              "      <td>4</td>\n",
              "      <td>1</td>\n",
              "      <td>3</td>\n",
              "      <td>2</td>\n",
              "      <td>...</td>\n",
              "      <td>5</td>\n",
              "      <td>1169000</td>\n",
              "      <td>4</td>\n",
              "      <td>2</td>\n",
              "      <td>0</td>\n",
              "      <td>0</td>\n",
              "      <td>0</td>\n",
              "      <td>2</td>\n",
              "      <td>1</td>\n",
              "      <td>0</td>\n",
              "    </tr>\n",
              "    <tr>\n",
              "      <th>1</th>\n",
              "      <td>1203873</td>\n",
              "      <td>22</td>\n",
              "      <td>0</td>\n",
              "      <td>1</td>\n",
              "      <td>1</td>\n",
              "      <td>1</td>\n",
              "      <td>2</td>\n",
              "      <td>1</td>\n",
              "      <td>1</td>\n",
              "      <td>2</td>\n",
              "      <td>...</td>\n",
              "      <td>5</td>\n",
              "      <td>5951000</td>\n",
              "      <td>2</td>\n",
              "      <td>2</td>\n",
              "      <td>0</td>\n",
              "      <td>0</td>\n",
              "      <td>0</td>\n",
              "      <td>1</td>\n",
              "      <td>3</td>\n",
              "      <td>1</td>\n",
              "    </tr>\n",
              "    <tr>\n",
              "      <th>2</th>\n",
              "      <td>1432761</td>\n",
              "      <td>49</td>\n",
              "      <td>1</td>\n",
              "      <td>3</td>\n",
              "      <td>2</td>\n",
              "      <td>1</td>\n",
              "      <td>3</td>\n",
              "      <td>3</td>\n",
              "      <td>2</td>\n",
              "      <td>3</td>\n",
              "      <td>...</td>\n",
              "      <td>4</td>\n",
              "      <td>2096000</td>\n",
              "      <td>2</td>\n",
              "      <td>2</td>\n",
              "      <td>0</td>\n",
              "      <td>0</td>\n",
              "      <td>0</td>\n",
              "      <td>1</td>\n",
              "      <td>1</td>\n",
              "      <td>0</td>\n",
              "    </tr>\n",
              "    <tr>\n",
              "      <th>3</th>\n",
              "      <td>1207582</td>\n",
              "      <td>45</td>\n",
              "      <td>1</td>\n",
              "      <td>3</td>\n",
              "      <td>2</td>\n",
              "      <td>0</td>\n",
              "      <td>4</td>\n",
              "      <td>1</td>\n",
              "      <td>2</td>\n",
              "      <td>3</td>\n",
              "      <td>...</td>\n",
              "      <td>0</td>\n",
              "      <td>7882000</td>\n",
              "      <td>2</td>\n",
              "      <td>0</td>\n",
              "      <td>0</td>\n",
              "      <td>1</td>\n",
              "      <td>0</td>\n",
              "      <td>1</td>\n",
              "      <td>3</td>\n",
              "      <td>0</td>\n",
              "    </tr>\n",
              "    <tr>\n",
              "      <th>4</th>\n",
              "      <td>1674436</td>\n",
              "      <td>53</td>\n",
              "      <td>1</td>\n",
              "      <td>3</td>\n",
              "      <td>2</td>\n",
              "      <td>0</td>\n",
              "      <td>4</td>\n",
              "      <td>1</td>\n",
              "      <td>1</td>\n",
              "      <td>2</td>\n",
              "      <td>...</td>\n",
              "      <td>6</td>\n",
              "      <td>4870000</td>\n",
              "      <td>3</td>\n",
              "      <td>1</td>\n",
              "      <td>0</td>\n",
              "      <td>0</td>\n",
              "      <td>0</td>\n",
              "      <td>2</td>\n",
              "      <td>2</td>\n",
              "      <td>1</td>\n",
              "    </tr>\n",
              "  </tbody>\n",
              "</table>\n",
              "<p>5 rows × 27 columns</p>\n",
              "</div>\n",
              "      <button class=\"colab-df-convert\" onclick=\"convertToInteractive('df-e9959a92-ba96-404a-9fd2-40704914596c')\"\n",
              "              title=\"Convert this dataframe to an interactive table.\"\n",
              "              style=\"display:none;\">\n",
              "        \n",
              "  <svg xmlns=\"http://www.w3.org/2000/svg\" height=\"24px\"viewBox=\"0 0 24 24\"\n",
              "       width=\"24px\">\n",
              "    <path d=\"M0 0h24v24H0V0z\" fill=\"none\"/>\n",
              "    <path d=\"M18.56 5.44l.94 2.06.94-2.06 2.06-.94-2.06-.94-.94-2.06-.94 2.06-2.06.94zm-11 1L8.5 8.5l.94-2.06 2.06-.94-2.06-.94L8.5 2.5l-.94 2.06-2.06.94zm10 10l.94 2.06.94-2.06 2.06-.94-2.06-.94-.94-2.06-.94 2.06-2.06.94z\"/><path d=\"M17.41 7.96l-1.37-1.37c-.4-.4-.92-.59-1.43-.59-.52 0-1.04.2-1.43.59L10.3 9.45l-7.72 7.72c-.78.78-.78 2.05 0 2.83L4 21.41c.39.39.9.59 1.41.59.51 0 1.02-.2 1.41-.59l7.78-7.78 2.81-2.81c.8-.78.8-2.07 0-2.86zM5.41 20L4 18.59l7.72-7.72 1.47 1.35L5.41 20z\"/>\n",
              "  </svg>\n",
              "      </button>\n",
              "      \n",
              "  <style>\n",
              "    .colab-df-container {\n",
              "      display:flex;\n",
              "      flex-wrap:wrap;\n",
              "      gap: 12px;\n",
              "    }\n",
              "\n",
              "    .colab-df-convert {\n",
              "      background-color: #E8F0FE;\n",
              "      border: none;\n",
              "      border-radius: 50%;\n",
              "      cursor: pointer;\n",
              "      display: none;\n",
              "      fill: #1967D2;\n",
              "      height: 32px;\n",
              "      padding: 0 0 0 0;\n",
              "      width: 32px;\n",
              "    }\n",
              "\n",
              "    .colab-df-convert:hover {\n",
              "      background-color: #E2EBFA;\n",
              "      box-shadow: 0px 1px 2px rgba(60, 64, 67, 0.3), 0px 1px 3px 1px rgba(60, 64, 67, 0.15);\n",
              "      fill: #174EA6;\n",
              "    }\n",
              "\n",
              "    [theme=dark] .colab-df-convert {\n",
              "      background-color: #3B4455;\n",
              "      fill: #D2E3FC;\n",
              "    }\n",
              "\n",
              "    [theme=dark] .colab-df-convert:hover {\n",
              "      background-color: #434B5C;\n",
              "      box-shadow: 0px 1px 3px 1px rgba(0, 0, 0, 0.15);\n",
              "      filter: drop-shadow(0px 1px 2px rgba(0, 0, 0, 0.3));\n",
              "      fill: #FFFFFF;\n",
              "    }\n",
              "  </style>\n",
              "\n",
              "      <script>\n",
              "        const buttonEl =\n",
              "          document.querySelector('#df-e9959a92-ba96-404a-9fd2-40704914596c button.colab-df-convert');\n",
              "        buttonEl.style.display =\n",
              "          google.colab.kernel.accessAllowed ? 'block' : 'none';\n",
              "\n",
              "        async function convertToInteractive(key) {\n",
              "          const element = document.querySelector('#df-e9959a92-ba96-404a-9fd2-40704914596c');\n",
              "          const dataTable =\n",
              "            await google.colab.kernel.invokeFunction('convertToInteractive',\n",
              "                                                     [key], {});\n",
              "          if (!dataTable) return;\n",
              "\n",
              "          const docLinkHtml = 'Like what you see? Visit the ' +\n",
              "            '<a target=\"_blank\" href=https://colab.research.google.com/notebooks/data_table.ipynb>data table notebook</a>'\n",
              "            + ' to learn more about interactive tables.';\n",
              "          element.innerHTML = '';\n",
              "          dataTable['output_type'] = 'display_data';\n",
              "          await google.colab.output.renderOutput(dataTable, element);\n",
              "          const docLink = document.createElement('div');\n",
              "          docLink.innerHTML = docLinkHtml;\n",
              "          element.appendChild(docLink);\n",
              "        }\n",
              "      </script>\n",
              "    </div>\n",
              "  </div>\n",
              "  "
            ]
          },
          "metadata": {},
          "execution_count": 222
        }
      ]
    },
    {
      "cell_type": "code",
      "source": [
        "df_final.iloc[:,9:20] # just to view middle columns data "
      ],
      "metadata": {
        "colab": {
          "base_uri": "https://localhost:8080/",
          "height": 488
        },
        "id": "Xir0THp2LIL3",
        "outputId": "609cdaf5-fb7a-4dce-9afe-b6ff457c14a5"
      },
      "execution_count": 223,
      "outputs": [
        {
          "output_type": "execute_result",
          "data": {
            "text/plain": [
              "     Has_been_employed_for_at_most  Telephone  Foreign_worker  \\\n",
              "0                                2          0               1   \n",
              "1                                2          0               1   \n",
              "2                                3          0               1   \n",
              "3                                3          0               1   \n",
              "4                                2          0               1   \n",
              "..                             ...        ...             ...   \n",
              "995                              3          0               1   \n",
              "996                              2          0               1   \n",
              "997                              2          0               1   \n",
              "998                              2          0               1   \n",
              "999                              0          0               1   \n",
              "\n",
              "     Savings_account_balance  \\\n",
              "0                          1   \n",
              "1                          1   \n",
              "2                          1   \n",
              "3                          1   \n",
              "4                          1   \n",
              "..                       ...   \n",
              "995                        1   \n",
              "996                        1   \n",
              "997                        1   \n",
              "998                        1   \n",
              "999                        2   \n",
              "\n",
              "     Balance_in_existing_bank_account_(lower_limit_of_bucket)  \\\n",
              "0                                                    0          \n",
              "1                                                    0          \n",
              "2                                                    0          \n",
              "3                                                    0          \n",
              "4                                                    0          \n",
              "..                                                 ...          \n",
              "995                                                  0          \n",
              "996                                                  0          \n",
              "997                                                  0          \n",
              "998                                                  0          \n",
              "999                                                  0          \n",
              "\n",
              "     Balance_in_existing_bank_account_(upper_limit_of_bucket)  \\\n",
              "0                                                    0          \n",
              "1                                                    1          \n",
              "2                                                    0          \n",
              "3                                                    0          \n",
              "4                                                    0          \n",
              "..                                                 ...          \n",
              "995                                                  0          \n",
              "996                                                  0          \n",
              "997                                                  0          \n",
              "998                                                  0          \n",
              "999                                                  1          \n",
              "\n",
              "     loan_application_id  Months_loan_taken_for  Purpose  \\\n",
              "0                      0                      6        5   \n",
              "1                      1                     48        5   \n",
              "2                      2                     12        4   \n",
              "3                      3                     42        0   \n",
              "4                      4                     24        6   \n",
              "..                   ...                    ...      ...   \n",
              "995                  995                     12        0   \n",
              "996                  996                     30        8   \n",
              "997                  997                     12        5   \n",
              "998                  998                     45        5   \n",
              "999                  999                     45        8   \n",
              "\n",
              "     Principal_loan_amount  EMI_rate_in_percentage_of_disposable_income  \n",
              "0                  1169000                                            4  \n",
              "1                  5951000                                            2  \n",
              "2                  2096000                                            2  \n",
              "3                  7882000                                            2  \n",
              "4                  4870000                                            3  \n",
              "..                     ...                                          ...  \n",
              "995                1736000                                            3  \n",
              "996                3857000                                            4  \n",
              "997                 804000                                            4  \n",
              "998                1845000                                            4  \n",
              "999                4576000                                            3  \n",
              "\n",
              "[1000 rows x 11 columns]"
            ],
            "text/html": [
              "\n",
              "  <div id=\"df-88729595-e56a-4507-b1b7-043d58c355ef\">\n",
              "    <div class=\"colab-df-container\">\n",
              "      <div>\n",
              "<style scoped>\n",
              "    .dataframe tbody tr th:only-of-type {\n",
              "        vertical-align: middle;\n",
              "    }\n",
              "\n",
              "    .dataframe tbody tr th {\n",
              "        vertical-align: top;\n",
              "    }\n",
              "\n",
              "    .dataframe thead th {\n",
              "        text-align: right;\n",
              "    }\n",
              "</style>\n",
              "<table border=\"1\" class=\"dataframe\">\n",
              "  <thead>\n",
              "    <tr style=\"text-align: right;\">\n",
              "      <th></th>\n",
              "      <th>Has_been_employed_for_at_most</th>\n",
              "      <th>Telephone</th>\n",
              "      <th>Foreign_worker</th>\n",
              "      <th>Savings_account_balance</th>\n",
              "      <th>Balance_in_existing_bank_account_(lower_limit_of_bucket)</th>\n",
              "      <th>Balance_in_existing_bank_account_(upper_limit_of_bucket)</th>\n",
              "      <th>loan_application_id</th>\n",
              "      <th>Months_loan_taken_for</th>\n",
              "      <th>Purpose</th>\n",
              "      <th>Principal_loan_amount</th>\n",
              "      <th>EMI_rate_in_percentage_of_disposable_income</th>\n",
              "    </tr>\n",
              "  </thead>\n",
              "  <tbody>\n",
              "    <tr>\n",
              "      <th>0</th>\n",
              "      <td>2</td>\n",
              "      <td>0</td>\n",
              "      <td>1</td>\n",
              "      <td>1</td>\n",
              "      <td>0</td>\n",
              "      <td>0</td>\n",
              "      <td>0</td>\n",
              "      <td>6</td>\n",
              "      <td>5</td>\n",
              "      <td>1169000</td>\n",
              "      <td>4</td>\n",
              "    </tr>\n",
              "    <tr>\n",
              "      <th>1</th>\n",
              "      <td>2</td>\n",
              "      <td>0</td>\n",
              "      <td>1</td>\n",
              "      <td>1</td>\n",
              "      <td>0</td>\n",
              "      <td>1</td>\n",
              "      <td>1</td>\n",
              "      <td>48</td>\n",
              "      <td>5</td>\n",
              "      <td>5951000</td>\n",
              "      <td>2</td>\n",
              "    </tr>\n",
              "    <tr>\n",
              "      <th>2</th>\n",
              "      <td>3</td>\n",
              "      <td>0</td>\n",
              "      <td>1</td>\n",
              "      <td>1</td>\n",
              "      <td>0</td>\n",
              "      <td>0</td>\n",
              "      <td>2</td>\n",
              "      <td>12</td>\n",
              "      <td>4</td>\n",
              "      <td>2096000</td>\n",
              "      <td>2</td>\n",
              "    </tr>\n",
              "    <tr>\n",
              "      <th>3</th>\n",
              "      <td>3</td>\n",
              "      <td>0</td>\n",
              "      <td>1</td>\n",
              "      <td>1</td>\n",
              "      <td>0</td>\n",
              "      <td>0</td>\n",
              "      <td>3</td>\n",
              "      <td>42</td>\n",
              "      <td>0</td>\n",
              "      <td>7882000</td>\n",
              "      <td>2</td>\n",
              "    </tr>\n",
              "    <tr>\n",
              "      <th>4</th>\n",
              "      <td>2</td>\n",
              "      <td>0</td>\n",
              "      <td>1</td>\n",
              "      <td>1</td>\n",
              "      <td>0</td>\n",
              "      <td>0</td>\n",
              "      <td>4</td>\n",
              "      <td>24</td>\n",
              "      <td>6</td>\n",
              "      <td>4870000</td>\n",
              "      <td>3</td>\n",
              "    </tr>\n",
              "    <tr>\n",
              "      <th>...</th>\n",
              "      <td>...</td>\n",
              "      <td>...</td>\n",
              "      <td>...</td>\n",
              "      <td>...</td>\n",
              "      <td>...</td>\n",
              "      <td>...</td>\n",
              "      <td>...</td>\n",
              "      <td>...</td>\n",
              "      <td>...</td>\n",
              "      <td>...</td>\n",
              "      <td>...</td>\n",
              "    </tr>\n",
              "    <tr>\n",
              "      <th>995</th>\n",
              "      <td>3</td>\n",
              "      <td>0</td>\n",
              "      <td>1</td>\n",
              "      <td>1</td>\n",
              "      <td>0</td>\n",
              "      <td>0</td>\n",
              "      <td>995</td>\n",
              "      <td>12</td>\n",
              "      <td>0</td>\n",
              "      <td>1736000</td>\n",
              "      <td>3</td>\n",
              "    </tr>\n",
              "    <tr>\n",
              "      <th>996</th>\n",
              "      <td>2</td>\n",
              "      <td>0</td>\n",
              "      <td>1</td>\n",
              "      <td>1</td>\n",
              "      <td>0</td>\n",
              "      <td>0</td>\n",
              "      <td>996</td>\n",
              "      <td>30</td>\n",
              "      <td>8</td>\n",
              "      <td>3857000</td>\n",
              "      <td>4</td>\n",
              "    </tr>\n",
              "    <tr>\n",
              "      <th>997</th>\n",
              "      <td>2</td>\n",
              "      <td>0</td>\n",
              "      <td>1</td>\n",
              "      <td>1</td>\n",
              "      <td>0</td>\n",
              "      <td>0</td>\n",
              "      <td>997</td>\n",
              "      <td>12</td>\n",
              "      <td>5</td>\n",
              "      <td>804000</td>\n",
              "      <td>4</td>\n",
              "    </tr>\n",
              "    <tr>\n",
              "      <th>998</th>\n",
              "      <td>2</td>\n",
              "      <td>0</td>\n",
              "      <td>1</td>\n",
              "      <td>1</td>\n",
              "      <td>0</td>\n",
              "      <td>0</td>\n",
              "      <td>998</td>\n",
              "      <td>45</td>\n",
              "      <td>5</td>\n",
              "      <td>1845000</td>\n",
              "      <td>4</td>\n",
              "    </tr>\n",
              "    <tr>\n",
              "      <th>999</th>\n",
              "      <td>0</td>\n",
              "      <td>0</td>\n",
              "      <td>1</td>\n",
              "      <td>2</td>\n",
              "      <td>0</td>\n",
              "      <td>1</td>\n",
              "      <td>999</td>\n",
              "      <td>45</td>\n",
              "      <td>8</td>\n",
              "      <td>4576000</td>\n",
              "      <td>3</td>\n",
              "    </tr>\n",
              "  </tbody>\n",
              "</table>\n",
              "<p>1000 rows × 11 columns</p>\n",
              "</div>\n",
              "      <button class=\"colab-df-convert\" onclick=\"convertToInteractive('df-88729595-e56a-4507-b1b7-043d58c355ef')\"\n",
              "              title=\"Convert this dataframe to an interactive table.\"\n",
              "              style=\"display:none;\">\n",
              "        \n",
              "  <svg xmlns=\"http://www.w3.org/2000/svg\" height=\"24px\"viewBox=\"0 0 24 24\"\n",
              "       width=\"24px\">\n",
              "    <path d=\"M0 0h24v24H0V0z\" fill=\"none\"/>\n",
              "    <path d=\"M18.56 5.44l.94 2.06.94-2.06 2.06-.94-2.06-.94-.94-2.06-.94 2.06-2.06.94zm-11 1L8.5 8.5l.94-2.06 2.06-.94-2.06-.94L8.5 2.5l-.94 2.06-2.06.94zm10 10l.94 2.06.94-2.06 2.06-.94-2.06-.94-.94-2.06-.94 2.06-2.06.94z\"/><path d=\"M17.41 7.96l-1.37-1.37c-.4-.4-.92-.59-1.43-.59-.52 0-1.04.2-1.43.59L10.3 9.45l-7.72 7.72c-.78.78-.78 2.05 0 2.83L4 21.41c.39.39.9.59 1.41.59.51 0 1.02-.2 1.41-.59l7.78-7.78 2.81-2.81c.8-.78.8-2.07 0-2.86zM5.41 20L4 18.59l7.72-7.72 1.47 1.35L5.41 20z\"/>\n",
              "  </svg>\n",
              "      </button>\n",
              "      \n",
              "  <style>\n",
              "    .colab-df-container {\n",
              "      display:flex;\n",
              "      flex-wrap:wrap;\n",
              "      gap: 12px;\n",
              "    }\n",
              "\n",
              "    .colab-df-convert {\n",
              "      background-color: #E8F0FE;\n",
              "      border: none;\n",
              "      border-radius: 50%;\n",
              "      cursor: pointer;\n",
              "      display: none;\n",
              "      fill: #1967D2;\n",
              "      height: 32px;\n",
              "      padding: 0 0 0 0;\n",
              "      width: 32px;\n",
              "    }\n",
              "\n",
              "    .colab-df-convert:hover {\n",
              "      background-color: #E2EBFA;\n",
              "      box-shadow: 0px 1px 2px rgba(60, 64, 67, 0.3), 0px 1px 3px 1px rgba(60, 64, 67, 0.15);\n",
              "      fill: #174EA6;\n",
              "    }\n",
              "\n",
              "    [theme=dark] .colab-df-convert {\n",
              "      background-color: #3B4455;\n",
              "      fill: #D2E3FC;\n",
              "    }\n",
              "\n",
              "    [theme=dark] .colab-df-convert:hover {\n",
              "      background-color: #434B5C;\n",
              "      box-shadow: 0px 1px 3px 1px rgba(0, 0, 0, 0.15);\n",
              "      filter: drop-shadow(0px 1px 2px rgba(0, 0, 0, 0.3));\n",
              "      fill: #FFFFFF;\n",
              "    }\n",
              "  </style>\n",
              "\n",
              "      <script>\n",
              "        const buttonEl =\n",
              "          document.querySelector('#df-88729595-e56a-4507-b1b7-043d58c355ef button.colab-df-convert');\n",
              "        buttonEl.style.display =\n",
              "          google.colab.kernel.accessAllowed ? 'block' : 'none';\n",
              "\n",
              "        async function convertToInteractive(key) {\n",
              "          const element = document.querySelector('#df-88729595-e56a-4507-b1b7-043d58c355ef');\n",
              "          const dataTable =\n",
              "            await google.colab.kernel.invokeFunction('convertToInteractive',\n",
              "                                                     [key], {});\n",
              "          if (!dataTable) return;\n",
              "\n",
              "          const docLinkHtml = 'Like what you see? Visit the ' +\n",
              "            '<a target=\"_blank\" href=https://colab.research.google.com/notebooks/data_table.ipynb>data table notebook</a>'\n",
              "            + ' to learn more about interactive tables.';\n",
              "          element.innerHTML = '';\n",
              "          dataTable['output_type'] = 'display_data';\n",
              "          await google.colab.output.renderOutput(dataTable, element);\n",
              "          const docLink = document.createElement('div');\n",
              "          docLink.innerHTML = docLinkHtml;\n",
              "          element.appendChild(docLink);\n",
              "        }\n",
              "      </script>\n",
              "    </div>\n",
              "  </div>\n",
              "  "
            ]
          },
          "metadata": {},
          "execution_count": 223
        }
      ]
    },
    {
      "cell_type": "markdown",
      "source": [
        "# **Feature selection Method**\n",
        "\n",
        "Just to check accuracy with less number of features .\n",
        "This was done just for curiosity to check accuracy score "
      ],
      "metadata": {
        "id": "bRIdADMa22Zp"
      }
    },
    {
      "cell_type": "code",
      "source": [
        "from sklearn.feature_selection import SelectKBest, chi2\n",
        "selector = SelectKBest(chi2, k=18)\n",
        "X_new = selector.fit_transform(X, y)\n",
        "X_new.shape"
      ],
      "metadata": {
        "colab": {
          "base_uri": "https://localhost:8080/"
        },
        "id": "rmU9Y-OCsRCT",
        "outputId": "49e4aa70-6293-4e15-9fe0-aa0ee29ca3e1"
      },
      "execution_count": 224,
      "outputs": [
        {
          "output_type": "execute_result",
          "data": {
            "text/plain": [
              "(1000, 18)"
            ]
          },
          "metadata": {},
          "execution_count": 224
        }
      ]
    },
    {
      "cell_type": "code",
      "source": [
        "print(selector.get_support())"
      ],
      "metadata": {
        "id": "gdVxZljr6uCg",
        "colab": {
          "base_uri": "https://localhost:8080/"
        },
        "outputId": "f36ed2f5-9fd9-4bb8-e447-17696f8a6a4d"
      },
      "execution_count": 225,
      "outputs": [
        {
          "output_type": "stream",
          "name": "stdout",
          "text": [
            "[ True  True  True  True False False False False  True  True False False\n",
            " False  True  True  True  True  True  True  True  True  True  True  True\n",
            " False  True]\n"
          ]
        }
      ]
    },
    {
      "cell_type": "code",
      "source": [
        "# splitting data intp training and test set, so import train_test_split\n",
        "\n",
        "from sklearn.model_selection import train_test_split\n",
        "\n",
        "X_train, X_test, y_train, y_test = train_test_split(X,y,test_size=0.30,random_state=0)\n"
      ],
      "metadata": {
        "id": "Lu7WNWuPFcf-"
      },
      "execution_count": 226,
      "outputs": []
    },
    {
      "cell_type": "markdown",
      "source": [
        "Recursive Feature Elimination (RFE)"
      ],
      "metadata": {
        "id": "FeRNmy_hFk3l"
      }
    },
    {
      "cell_type": "code",
      "source": [
        "# import required libraries  \n",
        "from sklearn.feature_selection import RFE\n",
        "from sklearn.ensemble import RandomForestClassifier\n"
      ],
      "metadata": {
        "id": "2ggDvmU460ZT"
      },
      "execution_count": 227,
      "outputs": []
    },
    {
      "cell_type": "code",
      "source": [
        "sel = RFE(RandomForestClassifier(n_estimators=100, random_state=0, n_jobs=-1), n_features_to_select = 18)\n",
        "sel.fit(X_train, y_train)"
      ],
      "metadata": {
        "id": "S4SP37pa7P4Z",
        "colab": {
          "base_uri": "https://localhost:8080/"
        },
        "outputId": "314f2850-6faf-4626-8f99-b96499be2c69"
      },
      "execution_count": 228,
      "outputs": [
        {
          "output_type": "execute_result",
          "data": {
            "text/plain": [
              "RFE(estimator=RandomForestClassifier(n_jobs=-1, random_state=0),\n",
              "    n_features_to_select=18)"
            ]
          },
          "metadata": {},
          "execution_count": 228
        }
      ]
    },
    {
      "cell_type": "code",
      "source": [
        "sel.get_support()"
      ],
      "metadata": {
        "id": "4-lBN8Xq7T4h",
        "colab": {
          "base_uri": "https://localhost:8080/"
        },
        "outputId": "89e9fc11-7e9e-44b9-a994-d9ba4fa9bb41"
      },
      "execution_count": 229,
      "outputs": [
        {
          "output_type": "execute_result",
          "data": {
            "text/plain": [
              "array([ True,  True, False,  True, False,  True,  True,  True,  True,\n",
              "        True, False, False,  True, False,  True,  True,  True,  True,\n",
              "        True,  True,  True, False, False, False,  True,  True])"
            ]
          },
          "metadata": {},
          "execution_count": 229
        }
      ]
    },
    {
      "cell_type": "code",
      "source": [
        "features = X_train.columns[sel.get_support()]"
      ],
      "metadata": {
        "id": "ZqjNLO8f7ZjO"
      },
      "execution_count": 230,
      "outputs": []
    },
    {
      "cell_type": "code",
      "source": [
        "features"
      ],
      "metadata": {
        "id": "f93bOdHw7b8N",
        "colab": {
          "base_uri": "https://localhost:8080/"
        },
        "outputId": "f6fb2b0f-72bc-4bb1-d266-2ff781333ff4"
      },
      "execution_count": 231,
      "outputs": [
        {
          "output_type": "execute_result",
          "data": {
            "text/plain": [
              "Index(['applicant_id', 'Primary_applicant_age_in_years', 'Marital_status',\n",
              "       'Housing', 'Years_at_current_residence', 'Employment_status',\n",
              "       'Has_been_employed_for_at_least', 'Has_been_employed_for_at_most',\n",
              "       'Savings_account_balance',\n",
              "       'Balance_in_existing_bank_account_(upper_limit_of_bucket)',\n",
              "       'loan_application_id', 'Months_loan_taken_for', 'Purpose',\n",
              "       'Principal_loan_amount', 'EMI_rate_in_percentage_of_disposable_income',\n",
              "       'Property', 'Number_of_existing_loans_at_this_bank', 'Loan_history'],\n",
              "      dtype='object')"
            ]
          },
          "metadata": {},
          "execution_count": 231
        }
      ]
    },
    {
      "cell_type": "markdown",
      "source": [
        "Model Building"
      ],
      "metadata": {
        "id": "34xIoKU9_dgl"
      }
    },
    {
      "cell_type": "code",
      "source": [
        "X_train_rfe = sel.transform(X_train)\n",
        "X_test_rfe = sel.transform(X_test)"
      ],
      "metadata": {
        "id": "U_XVTBSfP2lE"
      },
      "execution_count": 232,
      "outputs": []
    },
    {
      "cell_type": "code",
      "source": [
        "# import RandomForestClassifier\n",
        "\n",
        "from sklearn.ensemble import RandomForestClassifier\n",
        "from sklearn.metrics import classification_report,accuracy_score,confusion_matrix\n",
        "rd_clf = RandomForestClassifier()\n",
        "\n",
        "rd_clf.fit(X_train_rfe,y_train)\n",
        "\n",
        "# accuracy score, confusion matrix and classification report of random forest\n",
        "\n",
        "rd_clf_acc  = accuracy_score(y_test,rd_clf.predict(X_test_rfe))\n",
        "\n",
        "print(f'Training Accuracy of Random Forest Classifier is {accuracy_score(y_train,rd_clf.predict(X_train_rfe))}')\n",
        "print(f'Test Accuracy of Random Forest Classifier is {rd_clf_acc} \\n')\n",
        "\n",
        "print(f'Confusion Matrix :- \\n{confusion_matrix(y_test,rd_clf.predict(X_test_rfe))}\\n')\n",
        "print(f'Classification Report :- \\n{classification_report(y_test,rd_clf.predict(X_test_rfe))}')"
      ],
      "metadata": {
        "id": "xBiGwr8LPgec",
        "colab": {
          "base_uri": "https://localhost:8080/"
        },
        "outputId": "577ca046-6a03-4ff1-9bc8-341d6d667469"
      },
      "execution_count": 233,
      "outputs": [
        {
          "output_type": "stream",
          "name": "stdout",
          "text": [
            "Training Accuracy of Random Forest Classifier is 1.0\n",
            "Test Accuracy of Random Forest Classifier is 0.7066666666666667 \n",
            "\n",
            "Confusion Matrix :- \n",
            "[[192  22]\n",
            " [ 66  20]]\n",
            "\n",
            "Classification Report :- \n",
            "              precision    recall  f1-score   support\n",
            "\n",
            "           0       0.74      0.90      0.81       214\n",
            "           1       0.48      0.23      0.31        86\n",
            "\n",
            "    accuracy                           0.71       300\n",
            "   macro avg       0.61      0.56      0.56       300\n",
            "weighted avg       0.67      0.71      0.67       300\n",
            "\n"
          ]
        }
      ]
    },
    {
      "cell_type": "code",
      "source": [],
      "metadata": {
        "id": "QfG-iQA08ItY"
      },
      "execution_count": 233,
      "outputs": []
    }
  ]
}